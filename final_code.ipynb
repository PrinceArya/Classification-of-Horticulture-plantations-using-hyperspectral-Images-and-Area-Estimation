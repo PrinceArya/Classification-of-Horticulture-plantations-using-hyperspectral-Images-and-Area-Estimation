{
  "nbformat": 4,
  "nbformat_minor": 0,
  "metadata": {
    "colab": {
      "name": "HyperSpectral Image Classification.ipynb",
      "provenance": [],
      "collapsed_sections": [],
      "toc_visible": true,
      "mount_file_id": "1ErMx5hhvNHLxzjZi2jko9jFvJ3Z8IELu",
      "authorship_tag": "ABX9TyNfVooJCw+uOhBVh4ba/STR",
      "include_colab_link": true
    },
    "kernelspec": {
      "name": "python3",
      "display_name": "Python 3"
    },
    "widgets": {
      "application/vnd.jupyter.widget-state+json": {
        "832fa2fd57884056ba3efa57bce83ef1": {
          "model_module": "@jupyter-widgets/controls",
          "model_name": "HBoxModel",
          "state": {
            "_view_name": "HBoxView",
            "_dom_classes": [],
            "_model_name": "HBoxModel",
            "_view_module": "@jupyter-widgets/controls",
            "_model_module_version": "1.5.0",
            "_view_count": null,
            "_view_module_version": "1.5.0",
            "box_style": "",
            "layout": "IPY_MODEL_aff73e8926d543bc96568f170609e889",
            "_model_module": "@jupyter-widgets/controls",
            "children": [
              "IPY_MODEL_0851934d026f45b3bba369e930f9d286",
              "IPY_MODEL_27ebcaa205dd423d9a08a966401d1eed"
            ]
          }
        },
        "aff73e8926d543bc96568f170609e889": {
          "model_module": "@jupyter-widgets/base",
          "model_name": "LayoutModel",
          "state": {
            "_view_name": "LayoutView",
            "grid_template_rows": null,
            "right": null,
            "justify_content": null,
            "_view_module": "@jupyter-widgets/base",
            "overflow": null,
            "_model_module_version": "1.2.0",
            "_view_count": null,
            "flex_flow": null,
            "width": null,
            "min_width": null,
            "border": null,
            "align_items": null,
            "bottom": null,
            "_model_module": "@jupyter-widgets/base",
            "top": null,
            "grid_column": null,
            "overflow_y": null,
            "overflow_x": null,
            "grid_auto_flow": null,
            "grid_area": null,
            "grid_template_columns": null,
            "flex": null,
            "_model_name": "LayoutModel",
            "justify_items": null,
            "grid_row": null,
            "max_height": null,
            "align_content": null,
            "visibility": null,
            "align_self": null,
            "height": null,
            "min_height": null,
            "padding": null,
            "grid_auto_rows": null,
            "grid_gap": null,
            "max_width": null,
            "order": null,
            "_view_module_version": "1.2.0",
            "grid_template_areas": null,
            "object_position": null,
            "object_fit": null,
            "grid_auto_columns": null,
            "margin": null,
            "display": null,
            "left": null
          }
        },
        "0851934d026f45b3bba369e930f9d286": {
          "model_module": "@jupyter-widgets/controls",
          "model_name": "FloatProgressModel",
          "state": {
            "_view_name": "ProgressView",
            "style": "IPY_MODEL_c92b089fcb394cb3a975493858305d4e",
            "_dom_classes": [],
            "description": "100%",
            "_model_name": "FloatProgressModel",
            "bar_style": "success",
            "max": 20,
            "_view_module": "@jupyter-widgets/controls",
            "_model_module_version": "1.5.0",
            "value": 20,
            "_view_count": null,
            "_view_module_version": "1.5.0",
            "orientation": "horizontal",
            "min": 0,
            "description_tooltip": null,
            "_model_module": "@jupyter-widgets/controls",
            "layout": "IPY_MODEL_b6ecb4495018472f8037c59fdf42faf0"
          }
        },
        "27ebcaa205dd423d9a08a966401d1eed": {
          "model_module": "@jupyter-widgets/controls",
          "model_name": "HTMLModel",
          "state": {
            "_view_name": "HTMLView",
            "style": "IPY_MODEL_8ec0ff8fb2d04baba5ba2c0ab53d77c8",
            "_dom_classes": [],
            "description": "",
            "_model_name": "HTMLModel",
            "placeholder": "​",
            "_view_module": "@jupyter-widgets/controls",
            "_model_module_version": "1.5.0",
            "value": " 20/20 [13:39&lt;00:00, 40.96s/it]",
            "_view_count": null,
            "_view_module_version": "1.5.0",
            "description_tooltip": null,
            "_model_module": "@jupyter-widgets/controls",
            "layout": "IPY_MODEL_bb93aa2210204af7b9b707e834610463"
          }
        },
        "c92b089fcb394cb3a975493858305d4e": {
          "model_module": "@jupyter-widgets/controls",
          "model_name": "ProgressStyleModel",
          "state": {
            "_view_name": "StyleView",
            "_model_name": "ProgressStyleModel",
            "description_width": "initial",
            "_view_module": "@jupyter-widgets/base",
            "_model_module_version": "1.5.0",
            "_view_count": null,
            "_view_module_version": "1.2.0",
            "bar_color": null,
            "_model_module": "@jupyter-widgets/controls"
          }
        },
        "b6ecb4495018472f8037c59fdf42faf0": {
          "model_module": "@jupyter-widgets/base",
          "model_name": "LayoutModel",
          "state": {
            "_view_name": "LayoutView",
            "grid_template_rows": null,
            "right": null,
            "justify_content": null,
            "_view_module": "@jupyter-widgets/base",
            "overflow": null,
            "_model_module_version": "1.2.0",
            "_view_count": null,
            "flex_flow": null,
            "width": null,
            "min_width": null,
            "border": null,
            "align_items": null,
            "bottom": null,
            "_model_module": "@jupyter-widgets/base",
            "top": null,
            "grid_column": null,
            "overflow_y": null,
            "overflow_x": null,
            "grid_auto_flow": null,
            "grid_area": null,
            "grid_template_columns": null,
            "flex": null,
            "_model_name": "LayoutModel",
            "justify_items": null,
            "grid_row": null,
            "max_height": null,
            "align_content": null,
            "visibility": null,
            "align_self": null,
            "height": null,
            "min_height": null,
            "padding": null,
            "grid_auto_rows": null,
            "grid_gap": null,
            "max_width": null,
            "order": null,
            "_view_module_version": "1.2.0",
            "grid_template_areas": null,
            "object_position": null,
            "object_fit": null,
            "grid_auto_columns": null,
            "margin": null,
            "display": null,
            "left": null
          }
        },
        "8ec0ff8fb2d04baba5ba2c0ab53d77c8": {
          "model_module": "@jupyter-widgets/controls",
          "model_name": "DescriptionStyleModel",
          "state": {
            "_view_name": "StyleView",
            "_model_name": "DescriptionStyleModel",
            "description_width": "",
            "_view_module": "@jupyter-widgets/base",
            "_model_module_version": "1.5.0",
            "_view_count": null,
            "_view_module_version": "1.2.0",
            "_model_module": "@jupyter-widgets/controls"
          }
        },
        "bb93aa2210204af7b9b707e834610463": {
          "model_module": "@jupyter-widgets/base",
          "model_name": "LayoutModel",
          "state": {
            "_view_name": "LayoutView",
            "grid_template_rows": null,
            "right": null,
            "justify_content": null,
            "_view_module": "@jupyter-widgets/base",
            "overflow": null,
            "_model_module_version": "1.2.0",
            "_view_count": null,
            "flex_flow": null,
            "width": null,
            "min_width": null,
            "border": null,
            "align_items": null,
            "bottom": null,
            "_model_module": "@jupyter-widgets/base",
            "top": null,
            "grid_column": null,
            "overflow_y": null,
            "overflow_x": null,
            "grid_auto_flow": null,
            "grid_area": null,
            "grid_template_columns": null,
            "flex": null,
            "_model_name": "LayoutModel",
            "justify_items": null,
            "grid_row": null,
            "max_height": null,
            "align_content": null,
            "visibility": null,
            "align_self": null,
            "height": null,
            "min_height": null,
            "padding": null,
            "grid_auto_rows": null,
            "grid_gap": null,
            "max_width": null,
            "order": null,
            "_view_module_version": "1.2.0",
            "grid_template_areas": null,
            "object_position": null,
            "object_fit": null,
            "grid_auto_columns": null,
            "margin": null,
            "display": null,
            "left": null
          }
        },
        "54ba6a873756476bb0efb0ebfc60b83e": {
          "model_module": "@jupyter-widgets/controls",
          "model_name": "HBoxModel",
          "state": {
            "_view_name": "HBoxView",
            "_dom_classes": [],
            "_model_name": "HBoxModel",
            "_view_module": "@jupyter-widgets/controls",
            "_model_module_version": "1.5.0",
            "_view_count": null,
            "_view_module_version": "1.5.0",
            "box_style": "",
            "layout": "IPY_MODEL_e686272864a44549a84bf85a154fa154",
            "_model_module": "@jupyter-widgets/controls",
            "children": [
              "IPY_MODEL_e2ca4ff1ed6b4a50883174aa6009e18b",
              "IPY_MODEL_a8f92d38e9b1408e9892731d37004170"
            ]
          }
        },
        "e686272864a44549a84bf85a154fa154": {
          "model_module": "@jupyter-widgets/base",
          "model_name": "LayoutModel",
          "state": {
            "_view_name": "LayoutView",
            "grid_template_rows": null,
            "right": null,
            "justify_content": null,
            "_view_module": "@jupyter-widgets/base",
            "overflow": null,
            "_model_module_version": "1.2.0",
            "_view_count": null,
            "flex_flow": null,
            "width": null,
            "min_width": null,
            "border": null,
            "align_items": null,
            "bottom": null,
            "_model_module": "@jupyter-widgets/base",
            "top": null,
            "grid_column": null,
            "overflow_y": null,
            "overflow_x": null,
            "grid_auto_flow": null,
            "grid_area": null,
            "grid_template_columns": null,
            "flex": null,
            "_model_name": "LayoutModel",
            "justify_items": null,
            "grid_row": null,
            "max_height": null,
            "align_content": null,
            "visibility": null,
            "align_self": null,
            "height": null,
            "min_height": null,
            "padding": null,
            "grid_auto_rows": null,
            "grid_gap": null,
            "max_width": null,
            "order": null,
            "_view_module_version": "1.2.0",
            "grid_template_areas": null,
            "object_position": null,
            "object_fit": null,
            "grid_auto_columns": null,
            "margin": null,
            "display": null,
            "left": null
          }
        },
        "e2ca4ff1ed6b4a50883174aa6009e18b": {
          "model_module": "@jupyter-widgets/controls",
          "model_name": "FloatProgressModel",
          "state": {
            "_view_name": "ProgressView",
            "style": "IPY_MODEL_d0f852394a124300a845fd16be822ba5",
            "_dom_classes": [],
            "description": "100%",
            "_model_name": "FloatProgressModel",
            "bar_style": "success",
            "max": 20,
            "_view_module": "@jupyter-widgets/controls",
            "_model_module_version": "1.5.0",
            "value": 20,
            "_view_count": null,
            "_view_module_version": "1.5.0",
            "orientation": "horizontal",
            "min": 0,
            "description_tooltip": null,
            "_model_module": "@jupyter-widgets/controls",
            "layout": "IPY_MODEL_fa5baae614004facbb037192f11ef249"
          }
        },
        "a8f92d38e9b1408e9892731d37004170": {
          "model_module": "@jupyter-widgets/controls",
          "model_name": "HTMLModel",
          "state": {
            "_view_name": "HTMLView",
            "style": "IPY_MODEL_016c4d5346d7407ea96d7e46d7b71742",
            "_dom_classes": [],
            "description": "",
            "_model_name": "HTMLModel",
            "placeholder": "​",
            "_view_module": "@jupyter-widgets/controls",
            "_model_module_version": "1.5.0",
            "value": " 20/20 [02:12&lt;00:00,  6.62s/it]",
            "_view_count": null,
            "_view_module_version": "1.5.0",
            "description_tooltip": null,
            "_model_module": "@jupyter-widgets/controls",
            "layout": "IPY_MODEL_bb7543f686104f43bccd63ee51a46a1d"
          }
        },
        "d0f852394a124300a845fd16be822ba5": {
          "model_module": "@jupyter-widgets/controls",
          "model_name": "ProgressStyleModel",
          "state": {
            "_view_name": "StyleView",
            "_model_name": "ProgressStyleModel",
            "description_width": "initial",
            "_view_module": "@jupyter-widgets/base",
            "_model_module_version": "1.5.0",
            "_view_count": null,
            "_view_module_version": "1.2.0",
            "bar_color": null,
            "_model_module": "@jupyter-widgets/controls"
          }
        },
        "fa5baae614004facbb037192f11ef249": {
          "model_module": "@jupyter-widgets/base",
          "model_name": "LayoutModel",
          "state": {
            "_view_name": "LayoutView",
            "grid_template_rows": null,
            "right": null,
            "justify_content": null,
            "_view_module": "@jupyter-widgets/base",
            "overflow": null,
            "_model_module_version": "1.2.0",
            "_view_count": null,
            "flex_flow": null,
            "width": null,
            "min_width": null,
            "border": null,
            "align_items": null,
            "bottom": null,
            "_model_module": "@jupyter-widgets/base",
            "top": null,
            "grid_column": null,
            "overflow_y": null,
            "overflow_x": null,
            "grid_auto_flow": null,
            "grid_area": null,
            "grid_template_columns": null,
            "flex": null,
            "_model_name": "LayoutModel",
            "justify_items": null,
            "grid_row": null,
            "max_height": null,
            "align_content": null,
            "visibility": null,
            "align_self": null,
            "height": null,
            "min_height": null,
            "padding": null,
            "grid_auto_rows": null,
            "grid_gap": null,
            "max_width": null,
            "order": null,
            "_view_module_version": "1.2.0",
            "grid_template_areas": null,
            "object_position": null,
            "object_fit": null,
            "grid_auto_columns": null,
            "margin": null,
            "display": null,
            "left": null
          }
        },
        "016c4d5346d7407ea96d7e46d7b71742": {
          "model_module": "@jupyter-widgets/controls",
          "model_name": "DescriptionStyleModel",
          "state": {
            "_view_name": "StyleView",
            "_model_name": "DescriptionStyleModel",
            "description_width": "",
            "_view_module": "@jupyter-widgets/base",
            "_model_module_version": "1.5.0",
            "_view_count": null,
            "_view_module_version": "1.2.0",
            "_model_module": "@jupyter-widgets/controls"
          }
        },
        "bb7543f686104f43bccd63ee51a46a1d": {
          "model_module": "@jupyter-widgets/base",
          "model_name": "LayoutModel",
          "state": {
            "_view_name": "LayoutView",
            "grid_template_rows": null,
            "right": null,
            "justify_content": null,
            "_view_module": "@jupyter-widgets/base",
            "overflow": null,
            "_model_module_version": "1.2.0",
            "_view_count": null,
            "flex_flow": null,
            "width": null,
            "min_width": null,
            "border": null,
            "align_items": null,
            "bottom": null,
            "_model_module": "@jupyter-widgets/base",
            "top": null,
            "grid_column": null,
            "overflow_y": null,
            "overflow_x": null,
            "grid_auto_flow": null,
            "grid_area": null,
            "grid_template_columns": null,
            "flex": null,
            "_model_name": "LayoutModel",
            "justify_items": null,
            "grid_row": null,
            "max_height": null,
            "align_content": null,
            "visibility": null,
            "align_self": null,
            "height": null,
            "min_height": null,
            "padding": null,
            "grid_auto_rows": null,
            "grid_gap": null,
            "max_width": null,
            "order": null,
            "_view_module_version": "1.2.0",
            "grid_template_areas": null,
            "object_position": null,
            "object_fit": null,
            "grid_auto_columns": null,
            "margin": null,
            "display": null,
            "left": null
          }
        }
      }
    },
    "accelerator": "GPU"
  },
  "cells": [
    {
      "cell_type": "markdown",
      "metadata": {
        "id": "view-in-github",
        "colab_type": "text"
      },
      "source": [
        "<a href=\"https://colab.research.google.com/github/PrinceArya/Classification-of-Horticulture-plantations-using-hyperspectral-Images-and-Area-Estimation./blob/master/final_code.ipynb\" target=\"_parent\"><img src=\"https://colab.research.google.com/assets/colab-badge.svg\" alt=\"Open In Colab\"/></a>"
      ]
    },
    {
      "cell_type": "markdown",
      "metadata": {
        "id": "iTllnUxY_0Ki"
      },
      "source": [
        "#Data Loading"
      ]
    },
    {
      "cell_type": "code",
      "metadata": {
        "colab": {
          "base_uri": "https://localhost:8080/"
        },
        "id": "fB-L48jQhpxS",
        "outputId": "b3c08755-09d4-4792-8603-6098bcac8857"
      },
      "source": [
        "!wget http://www.ehu.eus/ccwintco/uploads/f/f1/Salinas.mat"
      ],
      "execution_count": null,
      "outputs": [
        {
          "output_type": "stream",
          "text": [
            "--2021-03-07 09:27:15--  http://www.ehu.eus/ccwintco/uploads/f/f1/Salinas.mat\n",
            "Resolving www.ehu.eus (www.ehu.eus)... 158.227.0.65, 2001:720:1410::65\n",
            "Connecting to www.ehu.eus (www.ehu.eus)|158.227.0.65|:80... connected.\n",
            "HTTP request sent, awaiting response... 200 OK\n",
            "Length: 27605707 (26M)\n",
            "Saving to: ‘Salinas.mat’\n",
            "\n",
            "Salinas.mat         100%[===================>]  26.33M   503KB/s    in 54s     \n",
            "\n",
            "2021-03-07 09:28:11 (497 KB/s) - ‘Salinas.mat’ saved [27605707/27605707]\n",
            "\n"
          ],
          "name": "stdout"
        }
      ]
    },
    {
      "cell_type": "markdown",
      "metadata": {
        "id": "ZufPikO9_zlN"
      },
      "source": [
        ""
      ]
    },
    {
      "cell_type": "code",
      "metadata": {
        "colab": {
          "base_uri": "https://localhost:8080/"
        },
        "id": "oB75XFzYk7i3",
        "outputId": "4de441c9-17ec-4935-8d87-cd062eed0872"
      },
      "source": [
        "!wget http://www.ehu.eus/ccwintco/uploads/a/a3/Salinas_corrected.mat"
      ],
      "execution_count": null,
      "outputs": [
        {
          "output_type": "stream",
          "text": [
            "--2021-03-07 09:28:11--  http://www.ehu.eus/ccwintco/uploads/a/a3/Salinas_corrected.mat\n",
            "Resolving www.ehu.eus (www.ehu.eus)... 158.227.0.65, 2001:720:1410::65\n",
            "Connecting to www.ehu.eus (www.ehu.eus)|158.227.0.65|:80... connected.\n",
            "HTTP request sent, awaiting response... 200 OK\n",
            "Length: 26552770 (25M)\n",
            "Saving to: ‘Salinas_corrected.mat’\n",
            "\n",
            "Salinas_corrected.m 100%[===================>]  25.32M   519KB/s    in 50s     \n",
            "\n",
            "2021-03-07 09:29:02 (516 KB/s) - ‘Salinas_corrected.mat’ saved [26552770/26552770]\n",
            "\n"
          ],
          "name": "stdout"
        }
      ]
    },
    {
      "cell_type": "code",
      "metadata": {
        "colab": {
          "base_uri": "https://localhost:8080/"
        },
        "id": "gxLVgvqRlRgu",
        "outputId": "da3a5544-cdbc-4275-9cd0-7e068eda5a0c"
      },
      "source": [
        "!wget http://www.ehu.eus/ccwintco/uploads/f/fa/Salinas_gt.mat"
      ],
      "execution_count": null,
      "outputs": [
        {
          "output_type": "stream",
          "text": [
            "--2021-03-07 09:29:02--  http://www.ehu.eus/ccwintco/uploads/f/fa/Salinas_gt.mat\n",
            "Resolving www.ehu.eus (www.ehu.eus)... 158.227.0.65, 2001:720:1410::65\n",
            "Connecting to www.ehu.eus (www.ehu.eus)|158.227.0.65|:80... connected.\n",
            "HTTP request sent, awaiting response... 200 OK\n",
            "Length: 4277 (4.2K)\n",
            "Saving to: ‘Salinas_gt.mat’\n",
            "\n",
            "Salinas_gt.mat      100%[===================>]   4.18K  --.-KB/s    in 0s      \n",
            "\n",
            "2021-03-07 09:29:02 (418 MB/s) - ‘Salinas_gt.mat’ saved [4277/4277]\n",
            "\n"
          ],
          "name": "stdout"
        }
      ]
    },
    {
      "cell_type": "code",
      "metadata": {
        "colab": {
          "base_uri": "https://localhost:8080/"
        },
        "id": "ukHBiElpvtQv",
        "outputId": "05b6d4f7-9317-4692-8476-23891577d5be"
      },
      "source": [
        "from google.colab import drive\n",
        "drive.mount('/content/drive')"
      ],
      "execution_count": null,
      "outputs": [
        {
          "output_type": "stream",
          "text": [
            "Drive already mounted at /content/drive; to attempt to forcibly remount, call drive.mount(\"/content/drive\", force_remount=True).\n"
          ],
          "name": "stdout"
        }
      ]
    },
    {
      "cell_type": "code",
      "metadata": {
        "id": "RK0suAgJh4Hp"
      },
      "source": [
        "import os\n",
        "import scipy.io as sio\n",
        "import numpy as np\n",
        "import random\n",
        "from sklearn.decomposition import PCA\n",
        "from sklearn.model_selection import train_test_split\n",
        "from torch.utils.data import Dataset, DataLoader\n",
        "from torchvision import transforms\n",
        "import torch\n",
        "import torch.nn as nn\n",
        "import matplotlib.pyplot as plt"
      ],
      "execution_count": null,
      "outputs": []
    },
    {
      "cell_type": "code",
      "metadata": {
        "id": "fvTn1vL4H_Kz"
      },
      "source": [
        "def seed_torch(seed=1029):\n",
        "    random.seed(seed)\n",
        "    os.environ['PYTHONHASHSEED'] = str(seed)\n",
        "    np.random.seed(seed)\n",
        "    torch.manual_seed(seed)\n",
        "    torch.cuda.manual_seed(seed)\n",
        "    torch.backends.cudnn.deterministic = True\n",
        "\n",
        "seed = 1024\n",
        "seed_torch(seed)"
      ],
      "execution_count": null,
      "outputs": []
    },
    {
      "cell_type": "code",
      "metadata": {
        "id": "WiLV8SuXjEGE"
      },
      "source": [
        "Dir = \"/content/\"\n",
        "random_state = 97\n",
        "batch_size=16\n",
        "patch_size=9\n",
        "no_class = 16\n",
        "depth = 20"
      ],
      "execution_count": null,
      "outputs": []
    },
    {
      "cell_type": "markdown",
      "metadata": {
        "id": "1fJkexTv_7um"
      },
      "source": [
        "#Preprocessing"
      ]
    },
    {
      "cell_type": "code",
      "metadata": {
        "id": "yVOrwu2W6Hma"
      },
      "source": [
        "def Padding(X, margin):\n",
        "    Padded_X = np.zeros((X.shape[0] + 2 * margin, X.shape[1] + 2* margin, X.shape[2]))\n",
        "    x_offset = margin\n",
        "    y_offset = margin\n",
        "    Padded_X[x_offset:X.shape[0] + x_offset, y_offset:X.shape[1] + y_offset, :] = X\n",
        "    return Padded_X\n"
      ],
      "execution_count": null,
      "outputs": []
    },
    {
      "cell_type": "code",
      "metadata": {
        "id": "tpxvifbQ6LrZ"
      },
      "source": [
        "def Create3Dpatch(X, y, patch=patch_size, removeZeroLabels = True):\n",
        "    margin = int((patch - 1) / 2)\n",
        "    Padded_X = Padding(X, margin=margin)\n",
        "    # split patches\n",
        "    New_Data = np.zeros((X.shape[0] * X.shape[1], patch, patch, X.shape[2]))\n",
        "    New_Label = np.zeros((X.shape[0] * X.shape[1]))\n",
        "    index = 0\n",
        "    for row in range(margin, Padded_X.shape[0] - margin):\n",
        "        for col in range(margin, Padded_X.shape[1] - margin):\n",
        "            patch = Padded_X[row - margin:row + margin + 1, col - margin:col + margin + 1]   \n",
        "            New_Data[index, :, :, :] = patch\n",
        "            New_Label[index] = y[row-margin, col-margin]\n",
        "            index = index + 1\n",
        "    if removeZeroLabels:\n",
        "        New_Data = New_Data[New_Label>0,:,:,:]\n",
        "        New_Label = New_Label[New_Label>0]\n",
        "        New_Label -= 1\n",
        "    return New_Data, New_Label"
      ],
      "execution_count": null,
      "outputs": []
    },
    {
      "cell_type": "code",
      "metadata": {
        "id": "UtahrrlvHvjD"
      },
      "source": [
        "def Count_Label(y, n_class):\n",
        "  Count= [0] * n_class\n",
        "  Count = np.array(Count)\n",
        "  for i in range(y.shape[0]):\n",
        "    idx = int(y[i])\n",
        "    Count[idx] +=1\n",
        "\n",
        "  for i in range(n_class):\n",
        "    print(\"Class \"+str(i)+\" == \",\"{0:.2f}\".format((Count[i]/y.shape[0])*100), \"%\")\n"
      ],
      "execution_count": null,
      "outputs": []
    },
    {
      "cell_type": "markdown",
      "metadata": {
        "id": "Kp6MORfP_-46"
      },
      "source": [
        "#DataLoader"
      ]
    },
    {
      "cell_type": "code",
      "metadata": {
        "id": "s3_By21-plZg"
      },
      "source": [
        "class Data(Dataset):\n",
        "  def __init__(self,Dir,feature,labels,patch,band):\n",
        "    self.feature =feature\n",
        "    self.labels = labels\n",
        "    #self.transform = transform\n",
        "    self.patch = patch\n",
        "    self.band = band\n",
        "    self.len = feature.shape[0]\n",
        "  def __len__(self):\n",
        "    return self.len;\n",
        "  def __getitem__(self,idx):\n",
        "    X = torch.from_numpy(np.array(self.feature[idx]))\n",
        "    X = X.resize(self.patch,self.patch,self.band,1)\n",
        "    X = X.permute(3,2,0,1)\n",
        "    X = X.type(torch.double)\n",
        "    y = torch.from_numpy(np.array(self.labels[idx]))\n",
        "    return X,y"
      ],
      "execution_count": null,
      "outputs": []
    },
    {
      "cell_type": "code",
      "metadata": {
        "id": "1EN9V4QJsUjT"
      },
      "source": [
        "feature = sio.loadmat(os.path.join(Dir, 'Salinas_corrected.mat'))['salinas_corrected']\n",
        "labels = sio.loadmat(os.path.join(Dir, 'Salinas_gt.mat'))['salinas_gt']"
      ],
      "execution_count": null,
      "outputs": []
    },
    {
      "cell_type": "markdown",
      "metadata": {
        "id": "RzIEnEYZAETk"
      },
      "source": [
        "###PCA "
      ]
    },
    {
      "cell_type": "code",
      "metadata": {
        "id": "TVDumx1bmsas"
      },
      "source": [
        "from sklearn.decomposition import PCA\n",
        "\n",
        "def Apply_PCA_on_Depth(X, depth):\n",
        "    X_new = np.reshape(X, (-1, X.shape[2]))\n",
        "    pca = PCA(n_components=depth, whiten=True)\n",
        "    X_new = pca.fit_transform(X_new)\n",
        "    X_new = np.reshape(X_new, (X.shape[0],X.shape[1], depth))\n",
        "    return X_new, pca"
      ],
      "execution_count": null,
      "outputs": []
    },
    {
      "cell_type": "code",
      "metadata": {
        "colab": {
          "base_uri": "https://localhost:8080/"
        },
        "id": "LwaFX1AvodWC",
        "outputId": "ddc7fd94-2a0c-4f94-d724-8889f495108b"
      },
      "source": [
        "feature,pca = Apply_PCA_on_Depth(feature,depth)\n",
        "feature.shape"
      ],
      "execution_count": null,
      "outputs": [
        {
          "output_type": "execute_result",
          "data": {
            "text/plain": [
              "(512, 217, 20)"
            ]
          },
          "metadata": {
            "tags": []
          },
          "execution_count": 14
        }
      ]
    },
    {
      "cell_type": "code",
      "metadata": {
        "id": "DyAGXlji8WAx"
      },
      "source": [
        "feature,labels = Create3Dpatch(feature,labels)"
      ],
      "execution_count": null,
      "outputs": []
    },
    {
      "cell_type": "code",
      "metadata": {
        "colab": {
          "base_uri": "https://localhost:8080/"
        },
        "id": "2Om94ZQ-9PCj",
        "outputId": "90d6989c-dd22-4dbd-fbe8-e7ec39dcb19e"
      },
      "source": [
        "feature.shape"
      ],
      "execution_count": null,
      "outputs": [
        {
          "output_type": "execute_result",
          "data": {
            "text/plain": [
              "(54129, 9, 9, 20)"
            ]
          },
          "metadata": {
            "tags": []
          },
          "execution_count": 16
        }
      ]
    },
    {
      "cell_type": "code",
      "metadata": {
        "id": "9uh0Qyw39KmE"
      },
      "source": [
        "X_train, X_test, y_train, y_test = train_test_split(feature, labels, test_size=0.3, random_state=random_state,stratify=labels)"
      ],
      "execution_count": null,
      "outputs": []
    },
    {
      "cell_type": "code",
      "metadata": {
        "colab": {
          "base_uri": "https://localhost:8080/"
        },
        "id": "517ATrElKBH4",
        "outputId": "8918da26-cb39-4d9b-db27-908c0966e8c8"
      },
      "source": [
        "Count_Label(y_train, 16)  #Class is imbalance"
      ],
      "execution_count": null,
      "outputs": [
        {
          "output_type": "stream",
          "text": [
            "Class 0 ==  3.71 %\n",
            "Class 1 ==  6.88 %\n",
            "Class 2 ==  3.65 %\n",
            "Class 3 ==  2.58 %\n",
            "Class 4 ==  4.95 %\n",
            "Class 5 ==  7.31 %\n",
            "Class 6 ==  6.61 %\n",
            "Class 7 ==  20.82 %\n",
            "Class 8 ==  11.46 %\n",
            "Class 9 ==  6.06 %\n",
            "Class 10 ==  1.97 %\n",
            "Class 11 ==  3.56 %\n",
            "Class 12 ==  1.69 %\n",
            "Class 13 ==  1.98 %\n",
            "Class 14 ==  13.43 %\n",
            "Class 15 ==  3.34 %\n"
          ],
          "name": "stdout"
        }
      ]
    },
    {
      "cell_type": "code",
      "metadata": {
        "colab": {
          "base_uri": "https://localhost:8080/"
        },
        "id": "fh2h3pUXK4WG",
        "outputId": "c760ac10-1575-4e1e-aa7e-8e85a3e8d90b"
      },
      "source": [
        "Count_Label(y_test, 16)"
      ],
      "execution_count": null,
      "outputs": [
        {
          "output_type": "stream",
          "text": [
            "Class 0 ==  3.71 %\n",
            "Class 1 ==  6.88 %\n",
            "Class 2 ==  3.65 %\n",
            "Class 3 ==  2.57 %\n",
            "Class 4 ==  4.94 %\n",
            "Class 5 ==  7.32 %\n",
            "Class 6 ==  6.61 %\n",
            "Class 7 ==  20.82 %\n",
            "Class 8 ==  11.46 %\n",
            "Class 9 ==  6.05 %\n",
            "Class 10 ==  1.97 %\n",
            "Class 11 ==  3.56 %\n",
            "Class 12 ==  1.69 %\n",
            "Class 13 ==  1.98 %\n",
            "Class 14 ==  13.43 %\n",
            "Class 15 ==  3.34 %\n"
          ],
          "name": "stdout"
        }
      ]
    },
    {
      "cell_type": "code",
      "metadata": {
        "colab": {
          "base_uri": "https://localhost:8080/"
        },
        "id": "dDGmBD8CtFKA",
        "outputId": "9dc68638-6e84-4173-8186-ed433c4a1a65"
      },
      "source": [
        "print(X_train.shape)\n",
        "print(X_test.shape)"
      ],
      "execution_count": null,
      "outputs": [
        {
          "output_type": "stream",
          "text": [
            "(37890, 9, 9, 20)\n",
            "(16239, 9, 9, 20)\n"
          ],
          "name": "stdout"
        }
      ]
    },
    {
      "cell_type": "markdown",
      "metadata": {
        "id": "7YIYOijJ-HmX"
      },
      "source": [
        "###Oversampling"
      ]
    },
    {
      "cell_type": "code",
      "metadata": {
        "colab": {
          "base_uri": "https://localhost:8080/"
        },
        "id": "kWcb-O5e9XQR",
        "outputId": "ff8c084c-771c-4ab9-ef64-5ecf5889e95e"
      },
      "source": [
        "!sudo pip install imbalanced-learn"
      ],
      "execution_count": null,
      "outputs": [
        {
          "output_type": "stream",
          "text": [
            "Requirement already satisfied: imbalanced-learn in /usr/local/lib/python3.7/dist-packages (0.4.3)\n",
            "Requirement already satisfied: numpy>=1.8.2 in /usr/local/lib/python3.7/dist-packages (from imbalanced-learn) (1.19.5)\n",
            "Requirement already satisfied: scipy>=0.13.3 in /usr/local/lib/python3.7/dist-packages (from imbalanced-learn) (1.4.1)\n",
            "Requirement already satisfied: scikit-learn>=0.20 in /usr/local/lib/python3.7/dist-packages (from imbalanced-learn) (0.22.2.post1)\n",
            "Requirement already satisfied: joblib>=0.11 in /usr/local/lib/python3.7/dist-packages (from scikit-learn>=0.20->imbalanced-learn) (1.0.1)\n"
          ],
          "name": "stdout"
        }
      ]
    },
    {
      "cell_type": "code",
      "metadata": {
        "colab": {
          "base_uri": "https://localhost:8080/"
        },
        "id": "SiZ3-8DlDVGZ",
        "outputId": "c1ebf8f6-f0fc-4ae5-b093-3af32f021f15"
      },
      "source": [
        "import imblearn\n",
        "from imblearn.over_sampling import SMOTE\n",
        "\n",
        "def OverSampling(X, y):\n",
        "  dim1 = X.shape[1]\n",
        "  dim2 = X.shape[2]\n",
        "  dim3 = X.shape[3]\n",
        "  X = np.reshape(X,(X.shape[0],dim1*dim2*dim3))\n",
        "  smote = SMOTE()\n",
        "  X_smote, y_smote = smote.fit_resample(X, y)\n",
        "  X_smote = np.reshape(X_smote,(X_smote.shape[0],dim1,dim2,dim3))\n",
        "  return X_smote,y_smote, smote\n"
      ],
      "execution_count": null,
      "outputs": [
        {
          "output_type": "stream",
          "text": [
            "/usr/local/lib/python3.7/dist-packages/sklearn/externals/six.py:31: FutureWarning: The module is deprecated in version 0.21 and will be removed in version 0.23 since we've dropped support for Python 2.7. Please rely on the official version of six (https://pypi.org/project/six/).\n",
            "  \"(https://pypi.org/project/six/).\", FutureWarning)\n",
            "/usr/local/lib/python3.7/dist-packages/sklearn/utils/deprecation.py:144: FutureWarning: The sklearn.neighbors.base module is  deprecated in version 0.22 and will be removed in version 0.24. The corresponding classes / functions should instead be imported from sklearn.neighbors. Anything that cannot be imported from sklearn.neighbors is now part of the private API.\n",
            "  warnings.warn(message, FutureWarning)\n"
          ],
          "name": "stderr"
        }
      ]
    },
    {
      "cell_type": "code",
      "metadata": {
        "colab": {
          "base_uri": "https://localhost:8080/"
        },
        "id": "DLFtsgs0GOGs",
        "outputId": "51ba0d21-13c7-4f1b-bc62-fbed9c305fd4"
      },
      "source": [
        "X_train, y_train, smote = OverSampling(X_train, y_train)"
      ],
      "execution_count": null,
      "outputs": [
        {
          "output_type": "stream",
          "text": [
            "/usr/local/lib/python3.7/dist-packages/sklearn/utils/deprecation.py:87: FutureWarning: Function safe_indexing is deprecated; safe_indexing is deprecated in version 0.22 and will be removed in version 0.24.\n",
            "  warnings.warn(msg, category=FutureWarning)\n",
            "/usr/local/lib/python3.7/dist-packages/sklearn/utils/deprecation.py:87: FutureWarning: Function safe_indexing is deprecated; safe_indexing is deprecated in version 0.22 and will be removed in version 0.24.\n",
            "  warnings.warn(msg, category=FutureWarning)\n",
            "/usr/local/lib/python3.7/dist-packages/sklearn/utils/deprecation.py:87: FutureWarning: Function safe_indexing is deprecated; safe_indexing is deprecated in version 0.22 and will be removed in version 0.24.\n",
            "  warnings.warn(msg, category=FutureWarning)\n",
            "/usr/local/lib/python3.7/dist-packages/sklearn/utils/deprecation.py:87: FutureWarning: Function safe_indexing is deprecated; safe_indexing is deprecated in version 0.22 and will be removed in version 0.24.\n",
            "  warnings.warn(msg, category=FutureWarning)\n",
            "/usr/local/lib/python3.7/dist-packages/sklearn/utils/deprecation.py:87: FutureWarning: Function safe_indexing is deprecated; safe_indexing is deprecated in version 0.22 and will be removed in version 0.24.\n",
            "  warnings.warn(msg, category=FutureWarning)\n",
            "/usr/local/lib/python3.7/dist-packages/sklearn/utils/deprecation.py:87: FutureWarning: Function safe_indexing is deprecated; safe_indexing is deprecated in version 0.22 and will be removed in version 0.24.\n",
            "  warnings.warn(msg, category=FutureWarning)\n",
            "/usr/local/lib/python3.7/dist-packages/sklearn/utils/deprecation.py:87: FutureWarning: Function safe_indexing is deprecated; safe_indexing is deprecated in version 0.22 and will be removed in version 0.24.\n",
            "  warnings.warn(msg, category=FutureWarning)\n",
            "/usr/local/lib/python3.7/dist-packages/sklearn/utils/deprecation.py:87: FutureWarning: Function safe_indexing is deprecated; safe_indexing is deprecated in version 0.22 and will be removed in version 0.24.\n",
            "  warnings.warn(msg, category=FutureWarning)\n",
            "/usr/local/lib/python3.7/dist-packages/sklearn/utils/deprecation.py:87: FutureWarning: Function safe_indexing is deprecated; safe_indexing is deprecated in version 0.22 and will be removed in version 0.24.\n",
            "  warnings.warn(msg, category=FutureWarning)\n",
            "/usr/local/lib/python3.7/dist-packages/sklearn/utils/deprecation.py:87: FutureWarning: Function safe_indexing is deprecated; safe_indexing is deprecated in version 0.22 and will be removed in version 0.24.\n",
            "  warnings.warn(msg, category=FutureWarning)\n",
            "/usr/local/lib/python3.7/dist-packages/sklearn/utils/deprecation.py:87: FutureWarning: Function safe_indexing is deprecated; safe_indexing is deprecated in version 0.22 and will be removed in version 0.24.\n",
            "  warnings.warn(msg, category=FutureWarning)\n",
            "/usr/local/lib/python3.7/dist-packages/sklearn/utils/deprecation.py:87: FutureWarning: Function safe_indexing is deprecated; safe_indexing is deprecated in version 0.22 and will be removed in version 0.24.\n",
            "  warnings.warn(msg, category=FutureWarning)\n",
            "/usr/local/lib/python3.7/dist-packages/sklearn/utils/deprecation.py:87: FutureWarning: Function safe_indexing is deprecated; safe_indexing is deprecated in version 0.22 and will be removed in version 0.24.\n",
            "  warnings.warn(msg, category=FutureWarning)\n",
            "/usr/local/lib/python3.7/dist-packages/sklearn/utils/deprecation.py:87: FutureWarning: Function safe_indexing is deprecated; safe_indexing is deprecated in version 0.22 and will be removed in version 0.24.\n",
            "  warnings.warn(msg, category=FutureWarning)\n",
            "/usr/local/lib/python3.7/dist-packages/sklearn/utils/deprecation.py:87: FutureWarning: Function safe_indexing is deprecated; safe_indexing is deprecated in version 0.22 and will be removed in version 0.24.\n",
            "  warnings.warn(msg, category=FutureWarning)\n"
          ],
          "name": "stderr"
        }
      ]
    },
    {
      "cell_type": "code",
      "metadata": {
        "colab": {
          "base_uri": "https://localhost:8080/"
        },
        "id": "l_TqoIsaLvs6",
        "outputId": "bc0ed479-9014-4c2b-c328-b3f05b87b85a"
      },
      "source": [
        "Count_Label(y_train, 16)   #Class Balanced"
      ],
      "execution_count": null,
      "outputs": [
        {
          "output_type": "stream",
          "text": [
            "Class 0 ==  6.25 %\n",
            "Class 1 ==  6.25 %\n",
            "Class 2 ==  6.25 %\n",
            "Class 3 ==  6.25 %\n",
            "Class 4 ==  6.25 %\n",
            "Class 5 ==  6.25 %\n",
            "Class 6 ==  6.25 %\n",
            "Class 7 ==  6.25 %\n",
            "Class 8 ==  6.25 %\n",
            "Class 9 ==  6.25 %\n",
            "Class 10 ==  6.25 %\n",
            "Class 11 ==  6.25 %\n",
            "Class 12 ==  6.25 %\n",
            "Class 13 ==  6.25 %\n",
            "Class 14 ==  6.25 %\n",
            "Class 15 ==  6.25 %\n"
          ],
          "name": "stdout"
        }
      ]
    },
    {
      "cell_type": "code",
      "metadata": {
        "id": "VLqmnam2q15s"
      },
      "source": [
        "X_train.shape"
      ],
      "execution_count": null,
      "outputs": []
    },
    {
      "cell_type": "code",
      "metadata": {
        "id": "WW_uDM4O8j-9"
      },
      "source": [
        "train_dataset = Data(Dir,X_train,y_train,patch=patch_size,band=depth)\n",
        "validation_dataset = Data(Dir,X_test,y_test,patch=patch_size,band=depth)"
      ],
      "execution_count": null,
      "outputs": []
    },
    {
      "cell_type": "code",
      "metadata": {
        "id": "iV97B4XD86WF"
      },
      "source": [
        "train_dataset[1400][0].shape"
      ],
      "execution_count": null,
      "outputs": []
    },
    {
      "cell_type": "code",
      "metadata": {
        "id": "D6vfp1-p880e"
      },
      "source": [
        "train_data_loader = DataLoader(\n",
        "    train_dataset,\n",
        "    batch_size=batch_size,\n",
        "    shuffle=True\n",
        ")\n",
        "\n",
        "valid_data_loader = DataLoader(\n",
        "    validation_dataset,\n",
        "    batch_size=batch_size,\n",
        "    shuffle=True\n",
        ")"
      ],
      "execution_count": null,
      "outputs": []
    },
    {
      "cell_type": "code",
      "metadata": {
        "id": "H5EJZ8IUCgi5"
      },
      "source": [
        "device = torch.device('cuda') if torch.cuda.is_available() else torch.device('cpu')"
      ],
      "execution_count": null,
      "outputs": []
    },
    {
      "cell_type": "code",
      "metadata": {
        "id": "1Sxefa_iXClu"
      },
      "source": [
        "import torch.nn as nn\n",
        "import torch.nn.functional as fun\n",
        "import matplotlib.pyplot as plt"
      ],
      "execution_count": null,
      "outputs": []
    },
    {
      "cell_type": "markdown",
      "metadata": {
        "id": "EhK115vUAO1K"
      },
      "source": [
        "#Model"
      ]
    },
    {
      "cell_type": "code",
      "metadata": {
        "id": "VLiWRWdY-QB0"
      },
      "source": [
        "class HSI_Classifier(nn.Module):\n",
        "  def __init__(self):\n",
        "    super().__init__()\n",
        "    self.conv1 = nn.Conv3d(in_channels=1, out_channels=8, kernel_size=(3,3,3))\n",
        "    self.batchnorm1 = nn.BatchNorm3d(8)\n",
        "    self.conv2 = nn.Conv3d(in_channels=8, out_channels=16, kernel_size=(5,3,3))\n",
        "    self.batchnorm2 = nn.BatchNorm3d(16)\n",
        "    self.conv3 = nn.Conv3d(in_channels=16, out_channels=32, kernel_size=(5,3,3))\n",
        "    self.batchnorm3 = nn.BatchNorm3d(32)\n",
        "    self.fc1 = nn.Linear(32*10*3*3,512)\n",
        "    self.fc2 = nn.Linear(512,no_class)\n",
        "    self.relu = nn.ReLU()\n",
        "  def forward(self, x):\n",
        "    layer0 = self.relu(self.conv1(x))\n",
        "    layer0 = self.batchnorm1(layer0)\n",
        "    layer1 = self.relu(self.conv2(layer0))\n",
        "    layer1 = self.batchnorm2(layer1)\n",
        "    layer2 = self.relu(self.conv3(layer1))\n",
        "    layer2 = self.batchnorm3(layer2)\n",
        "    layer2 = layer2.view(-1,layer2.size(1)*layer2.size(2)*layer2.size(3)*layer2.size(4))\n",
        "    layer3 = torch.tanh(self.fc1(layer2))\n",
        "    layer4 = self.fc2(layer3)\n",
        "    return layer4"
      ],
      "execution_count": null,
      "outputs": []
    },
    {
      "cell_type": "code",
      "metadata": {
        "id": "pfidxdaKeOvS"
      },
      "source": [
        "def weights_init(m):\n",
        "    if isinstance(m, nn.Conv3d):\n",
        "        torch.nn.init.normal_(m.weight, 0.0, 0.02)\n",
        "    if isinstance(m, nn.BatchNorm3d):\n",
        "        torch.nn.init.normal_(m.weight, 0.0, 0.02)\n",
        "        torch.nn.init.constant_(m.bias, 0)"
      ],
      "execution_count": null,
      "outputs": []
    },
    {
      "cell_type": "code",
      "metadata": {
        "id": "jG3tlU_yNEIB"
      },
      "source": [
        "model = HSI_Classifier()\n",
        "model = model.apply(weights_init)"
      ],
      "execution_count": null,
      "outputs": []
    },
    {
      "cell_type": "code",
      "metadata": {
        "id": "49o_PepSNIiK",
        "colab": {
          "base_uri": "https://localhost:8080/"
        },
        "outputId": "aaefc0f5-f6e3-4ef9-e129-99cf1b74db1b"
      },
      "source": [
        "model(train_dataset[1][0].resize(1,1,20,9,9).float())"
      ],
      "execution_count": null,
      "outputs": [
        {
          "output_type": "stream",
          "text": [
            "/usr/local/lib/python3.6/dist-packages/torch/tensor.py:447: UserWarning: non-inplace resize is deprecated\n",
            "  warnings.warn(\"non-inplace resize is deprecated\")\n"
          ],
          "name": "stderr"
        },
        {
          "output_type": "execute_result",
          "data": {
            "text/plain": [
              "tensor([[ 0.0001, -0.0096, -0.0003, -0.0426,  0.0253,  0.0461,  0.0237, -0.0302,\n",
              "         -0.0184,  0.0356,  0.0053,  0.0318, -0.0262,  0.0424, -0.0204, -0.0362]],\n",
              "       grad_fn=<AddmmBackward>)"
            ]
          },
          "metadata": {
            "tags": []
          },
          "execution_count": 80
        }
      ]
    },
    {
      "cell_type": "code",
      "metadata": {
        "id": "EdEzkyCGYRn1",
        "colab": {
          "base_uri": "https://localhost:8080/"
        },
        "outputId": "7d42ed7f-294f-4f49-f4f1-bac126d26215"
      },
      "source": [
        "model"
      ],
      "execution_count": null,
      "outputs": [
        {
          "output_type": "execute_result",
          "data": {
            "text/plain": [
              "HSI_Classifier(\n",
              "  (conv1): Conv3d(1, 8, kernel_size=(3, 3, 3), stride=(1, 1, 1))\n",
              "  (batchnorm1): BatchNorm3d(8, eps=1e-05, momentum=0.1, affine=True, track_running_stats=True)\n",
              "  (conv2): Conv3d(8, 16, kernel_size=(5, 3, 3), stride=(1, 1, 1))\n",
              "  (batchnorm2): BatchNorm3d(16, eps=1e-05, momentum=0.1, affine=True, track_running_stats=True)\n",
              "  (conv3): Conv3d(16, 32, kernel_size=(5, 3, 3), stride=(1, 1, 1))\n",
              "  (batchnorm3): BatchNorm3d(32, eps=1e-05, momentum=0.1, affine=True, track_running_stats=True)\n",
              "  (fc1): Linear(in_features=2880, out_features=512, bias=True)\n",
              "  (fc2): Linear(in_features=512, out_features=16, bias=True)\n",
              "  (relu): ReLU()\n",
              ")"
            ]
          },
          "metadata": {
            "tags": []
          },
          "execution_count": 81
        }
      ]
    },
    {
      "cell_type": "code",
      "metadata": {
        "id": "a0c1KBJXbjBm"
      },
      "source": [
        "import torch.optim as optim\n",
        "from tqdm import tqdm_notebook as tqdm\n",
        "from torch.optim import lr_scheduler\n",
        "\n",
        "criterion = nn.CrossEntropyLoss()\n",
        "optimizer = optim.Adam(model.parameters(), lr=0.001)\n",
        "lmbda = lambda epoch: 0.97  #lr_new_epoch = lr_prev_epoch*0.90\n",
        "scheduler = lr_scheduler.MultiplicativeLR(optimizer, lr_lambda=lmbda)\n",
        "pth = \"/content/drive/MyDrive/HyperSpectral_Model_With_Oversampling_3.pth\""
      ],
      "execution_count": null,
      "outputs": []
    },
    {
      "cell_type": "markdown",
      "metadata": {
        "id": "fcj223I5ASD7"
      },
      "source": [
        "# Model Training"
      ]
    },
    {
      "cell_type": "code",
      "metadata": {
        "id": "YHPsLZWkdr-F"
      },
      "source": [
        "def train(model, criterion, train_loader, validation_loader, optimizer, epochs):\n",
        "    device = torch.device('cuda') if torch.cuda.is_available() else torch.device('cpu')\n",
        "    i = 0\n",
        "    model.to(device)\n",
        "    history = {'training_loss': [],'validation_accuracy': [], 'validation_loss':[]}\n",
        "    for epoch in tqdm(range(epochs)):\n",
        "        t_loss=0\n",
        "        v_loss=0\n",
        "        for i, (X, y) in enumerate(train_loader): \n",
        "            model.train()\n",
        "            X = X.to(device).float()\n",
        "            y = y.to(device).type(torch.long)\n",
        "            optimizer.zero_grad()\n",
        "            outputs = model(X)\n",
        "            loss = criterion(outputs, y)\n",
        "            loss.backward()\n",
        "            optimizer.step()\n",
        "            t_loss +=loss.data.item()\n",
        "        correct = 0\n",
        "        for x_valid, y_valid in validation_loader:\n",
        "            #validation \n",
        "            model.eval()\n",
        "            x_valid = x_valid.to(device).float()\n",
        "            y_valid = y_valid.to(device).type(torch.long)\n",
        "            z = model(x_valid)\n",
        "            val_loss = criterion(z, y_valid)\n",
        "            v_loss+=val_loss.data.item()\n",
        "            _, label = torch.max(z, 1)\n",
        "            correct += (label == y_valid).sum().item()\n",
        "        accuracy = 100 * (correct / len(validation_dataset))\n",
        "        history['validation_accuracy'].append(accuracy)\n",
        "        history['training_loss'].append(t_loss/len(train_dataset))\n",
        "        history['validation_loss'].append(v_loss/len(validation_dataset))\n",
        "        print(\"Epoch ::::  \"+str(epoch+1)+\"  train_loss ::: \"+str(t_loss/len(train_dataset))+\"  valid_loss :::\"+str(v_loss/len(validation_dataset))+\"  Validation_Accuracy ::: \"+str(accuracy))\n",
        "        for param_group in optimizer.param_groups:\n",
        "          print(\"Current Learning Rate:\",param_group['lr'])\n",
        "        scheduler.step()\n",
        "        torch.save({'model': model,\n",
        "               'optimizer': optimizer,},\n",
        "                pth)\n",
        "    return history"
      ],
      "execution_count": null,
      "outputs": []
    },
    {
      "cell_type": "code",
      "metadata": {
        "colab": {
          "base_uri": "https://localhost:8080/",
          "height": 851,
          "referenced_widgets": [
            "832fa2fd57884056ba3efa57bce83ef1",
            "aff73e8926d543bc96568f170609e889",
            "0851934d026f45b3bba369e930f9d286",
            "27ebcaa205dd423d9a08a966401d1eed",
            "c92b089fcb394cb3a975493858305d4e",
            "b6ecb4495018472f8037c59fdf42faf0",
            "8ec0ff8fb2d04baba5ba2c0ab53d77c8",
            "bb93aa2210204af7b9b707e834610463"
          ]
        },
        "id": "9QH99_XojZi6",
        "outputId": "5e0a3e10-6f16-4074-8b68-8d9486009ed7"
      },
      "source": [
        "hist = train(model,criterion,train_data_loader,valid_data_loader,optimizer,epochs=20)"
      ],
      "execution_count": null,
      "outputs": [
        {
          "output_type": "stream",
          "text": [
            "/usr/local/lib/python3.7/dist-packages/ipykernel_launcher.py:6: TqdmDeprecationWarning: This function will be removed in tqdm==5.0.0\n",
            "Please use `tqdm.notebook.tqdm` instead of `tqdm.tqdm_notebook`\n",
            "  \n"
          ],
          "name": "stderr"
        },
        {
          "output_type": "display_data",
          "data": {
            "application/vnd.jupyter.widget-view+json": {
              "model_id": "832fa2fd57884056ba3efa57bce83ef1",
              "version_minor": 0,
              "version_major": 2
            },
            "text/plain": [
              "HBox(children=(FloatProgress(value=0.0, max=20.0), HTML(value='')))"
            ]
          },
          "metadata": {
            "tags": []
          }
        },
        {
          "output_type": "stream",
          "text": [
            "/usr/local/lib/python3.7/dist-packages/torch/tensor.py:447: UserWarning: non-inplace resize is deprecated\n",
            "  warnings.warn(\"non-inplace resize is deprecated\")\n"
          ],
          "name": "stderr"
        },
        {
          "output_type": "stream",
          "text": [
            "Epoch ::::  1  train_loss ::: 8.790274205978069e-05  valid_loss :::9.631151691755861e-05  Validation_Accuracy ::: 99.96920992671963\n",
            "Current Learning Rate: 0.001\n",
            "Epoch ::::  2  train_loss ::: 8.383316238771849e-05  valid_loss :::0.00029038070984603327  Validation_Accuracy ::: 99.9014717655028\n",
            "Current Learning Rate: 0.0009699999999999999\n",
            "Epoch ::::  3  train_loss ::: 5.853480978613934e-05  valid_loss :::8.852513958099433e-05  Validation_Accuracy ::: 99.98152595603177\n",
            "Current Learning Rate: 0.0009408999999999999\n",
            "Epoch ::::  4  train_loss ::: 6.117343280213726e-05  valid_loss :::0.0001292921629082869  Validation_Accuracy ::: 99.98152595603177\n",
            "Current Learning Rate: 0.0009126729999999999\n",
            "Epoch ::::  5  train_loss ::: 4.2981850255320605e-05  valid_loss :::0.00036613980160356036  Validation_Accuracy ::: 99.9014717655028\n",
            "Current Learning Rate: 0.0008852928099999999\n",
            "Epoch ::::  6  train_loss ::: 6.464601536649923e-05  valid_loss :::1.6850266525756644e-05  Validation_Accuracy ::: 99.98768397068784\n",
            "Current Learning Rate: 0.0008587340256999998\n",
            "Epoch ::::  7  train_loss ::: 6.54687513166683e-05  valid_loss :::2.1849559667800914e-05  Validation_Accuracy ::: 99.98152595603177\n",
            "Current Learning Rate: 0.0008329720049289999\n",
            "Epoch ::::  8  train_loss ::: 4.267599295801823e-05  valid_loss :::0.00016698909331177913  Validation_Accuracy ::: 99.9261038241271\n",
            "Current Learning Rate: 0.0008079828447811299\n",
            "Epoch ::::  9  train_loss ::: 2.7474186164778507e-05  valid_loss :::9.411954248708959e-05  Validation_Accuracy ::: 99.95689389740747\n",
            "Current Learning Rate: 0.0007837433594376959\n",
            "Epoch ::::  10  train_loss ::: 1.924921270484337e-05  valid_loss :::1.8616040240024128e-05  Validation_Accuracy ::: 99.98768397068784\n",
            "Current Learning Rate: 0.000760231058654565\n",
            "Epoch ::::  11  train_loss ::: 7.129156930876649e-06  valid_loss :::9.810757685392588e-06  Validation_Accuracy ::: 99.98768397068784\n",
            "Current Learning Rate: 0.000737424126894928\n",
            "Epoch ::::  12  train_loss ::: 1.9119902188321965e-05  valid_loss :::6.575683988350099e-05  Validation_Accuracy ::: 99.98152595603177\n",
            "Current Learning Rate: 0.0007153014030880802\n",
            "Epoch ::::  13  train_loss ::: 1.995146305824212e-05  valid_loss :::3.290741984812151e-07  Validation_Accuracy ::: 100.0\n",
            "Current Learning Rate: 0.0006938423609954377\n",
            "Epoch ::::  14  train_loss ::: 8.907213977722967e-06  valid_loss :::1.912563423211216e-05  Validation_Accuracy ::: 99.99384198534392\n",
            "Current Learning Rate: 0.0006730270901655745\n",
            "Epoch ::::  15  train_loss ::: 8.640760195305278e-06  valid_loss :::1.496140611126293e-08  Validation_Accuracy ::: 100.0\n",
            "Current Learning Rate: 0.0006528362774606073\n",
            "Epoch ::::  16  train_loss ::: 1.3708658153577725e-08  valid_loss :::1.6322397788499627e-06  Validation_Accuracy ::: 100.0\n",
            "Current Learning Rate: 0.0006332511891367891\n",
            "Epoch ::::  17  train_loss ::: 1.7148342325704488e-05  valid_loss :::8.778615581616953e-05  Validation_Accuracy ::: 99.96305191206355\n",
            "Current Learning Rate: 0.0006142536534626854\n",
            "Epoch ::::  18  train_loss ::: 1.4202870704759587e-05  valid_loss :::9.323580855050545e-06  Validation_Accuracy ::: 99.98768397068784\n",
            "Current Learning Rate: 0.0005958260438588048\n",
            "Epoch ::::  19  train_loss ::: 2.999830925993771e-08  valid_loss :::1.880016747090963e-05  Validation_Accuracy ::: 99.98768397068784\n",
            "Current Learning Rate: 0.0005779512625430406\n",
            "Epoch ::::  20  train_loss ::: 8.607943283197861e-08  valid_loss :::2.864823639553347e-05  Validation_Accuracy ::: 99.97536794137571\n",
            "Current Learning Rate: 0.0005606127246667494\n",
            "\n"
          ],
          "name": "stdout"
        }
      ]
    },
    {
      "cell_type": "code",
      "metadata": {
        "id": "lYR9vPYVz0vr"
      },
      "source": [
        "def plot_accuracy_loss(training_results): \n",
        "    plt.subplot(3, 1, 1)\n",
        "    plt.plot(training_results['training_loss'], 'r')\n",
        "    plt.ylabel('train_loss')\n",
        "    plt.title('training loss per iterations')\n",
        "\n",
        "    plt.subplot(3, 1, 2)\n",
        "    plt.plot(training_results['validation_loss'], 'g')\n",
        "    plt.ylabel('validation_loss')\n",
        "\n",
        "    plt.subplot(3, 1, 3)\n",
        "    plt.plot(training_results['validation_accuracy'])\n",
        "    plt.ylabel('accuracy')\n",
        "    plt.xlabel('epochs')   \n",
        "    plt.show()"
      ],
      "execution_count": null,
      "outputs": []
    },
    {
      "cell_type": "code",
      "metadata": {
        "colab": {
          "base_uri": "https://localhost:8080/",
          "height": 295
        },
        "id": "9PYrPjd3zzhG",
        "outputId": "674b889e-3c83-416a-ffae-891548031de4"
      },
      "source": [
        "plot_accuracy_loss(hist)"
      ],
      "execution_count": null,
      "outputs": [
        {
          "output_type": "display_data",
          "data": {
            "image/png": "[encoded data removed]",
            "text/plain": [
              "<Figure size 432x288 with 3 Axes>"
            ]
          },
          "metadata": {
            "tags": [],
            "needs_background": "light"
          }
        }
      ]
    },
    {
      "cell_type": "code",
      "metadata": {
        "colab": {
          "base_uri": "https://localhost:8080/"
        },
        "id": "eDhSXBtY6Jsy",
        "outputId": "7d61607c-aa79-48c4-c8d3-4b9d9b7ab2e3"
      },
      "source": [
        "!pip install spectral"
      ],
      "execution_count": null,
      "outputs": [
        {
          "output_type": "stream",
          "text": [
            "Collecting spectral\n",
            "\u001b[?25l  Downloading https://files.pythonhosted.org/packages/ce/06/6a89035cde4eac3ed94e1888f850af653386e8ee827edc72ffc8e445bcb7/spectral-0.22.1-py3-none-any.whl (212kB)\n",
            "\r\u001b[K     |█▌                              | 10kB 22.4MB/s eta 0:00:01\r\u001b[K     |███                             | 20kB 15.6MB/s eta 0:00:01\r\u001b[K     |████▋                           | 30kB 13.4MB/s eta 0:00:01\r\u001b[K     |██████▏                         | 40kB 12.9MB/s eta 0:00:01\r\u001b[K     |███████▊                        | 51kB 8.8MB/s eta 0:00:01\r\u001b[K     |█████████▎                      | 61kB 8.1MB/s eta 0:00:01\r\u001b[K     |██████████▊                     | 71kB 9.2MB/s eta 0:00:01\r\u001b[K     |████████████▎                   | 81kB 10.0MB/s eta 0:00:01\r\u001b[K     |█████████████▉                  | 92kB 10.6MB/s eta 0:00:01\r\u001b[K     |███████████████▍                | 102kB 8.5MB/s eta 0:00:01\r\u001b[K     |█████████████████               | 112kB 8.5MB/s eta 0:00:01\r\u001b[K     |██████████████████▌             | 122kB 8.5MB/s eta 0:00:01\r\u001b[K     |████████████████████            | 133kB 8.5MB/s eta 0:00:01\r\u001b[K     |█████████████████████▌          | 143kB 8.5MB/s eta 0:00:01\r\u001b[K     |███████████████████████         | 153kB 8.5MB/s eta 0:00:01\r\u001b[K     |████████████████████████▋       | 163kB 8.5MB/s eta 0:00:01\r\u001b[K     |██████████████████████████▏     | 174kB 8.5MB/s eta 0:00:01\r\u001b[K     |███████████████████████████▊    | 184kB 8.5MB/s eta 0:00:01\r\u001b[K     |█████████████████████████████▎  | 194kB 8.5MB/s eta 0:00:01\r\u001b[K     |██████████████████████████████▊ | 204kB 8.5MB/s eta 0:00:01\r\u001b[K     |████████████████████████████████| 215kB 8.5MB/s \n",
            "\u001b[?25hRequirement already satisfied: numpy in /usr/local/lib/python3.7/dist-packages (from spectral) (1.19.5)\n",
            "Installing collected packages: spectral\n",
            "Successfully installed spectral-0.22.1\n"
          ],
          "name": "stdout"
        }
      ]
    },
    {
      "cell_type": "code",
      "metadata": {
        "id": "sYsM1smJzzdc"
      },
      "source": [
        "import spectral\n",
        "from sklearn.metrics import confusion_matrix, accuracy_score, classification_report, cohen_kappa_score"
      ],
      "execution_count": null,
      "outputs": []
    },
    {
      "cell_type": "code",
      "metadata": {
        "id": "hFxKtG8XzzUT"
      },
      "source": [
        "checkpoint = \"/content/drive/MyDrive/HyperSpectral_Model_With_Oversampling_3.pth\"\n",
        "device = torch.device('cuda') if torch.cuda.is_available() else torch.device('cpu')"
      ],
      "execution_count": null,
      "outputs": []
    },
    {
      "cell_type": "markdown",
      "metadata": {
        "id": "IPlXwQo2AghW"
      },
      "source": [
        "#Classification Report on test data"
      ]
    },
    {
      "cell_type": "code",
      "metadata": {
        "id": "WicNAY28F96U"
      },
      "source": [
        "def Evaluate_On_test_Data(checkpoint, X_test, y_test):\n",
        "  model= torch.load(checkpoint)['model'].to(device)\n",
        "  model.eval()\n",
        "\n",
        "  X_test = torch.from_numpy(X_test)\n",
        "  X_test = X_test.resize(X_test.shape[0],patch_size,patch_size,depth,1)\n",
        "  X_test = X_test.permute(0,4,3,2,1)\n",
        "\n",
        "  pred = model(X_test.float().to(device))\n",
        "  pred = pred.detach().cpu().numpy()\n",
        "\n",
        "  y_pred_validation = np.argmax(pred, axis=1)\n",
        "  report = classification_report(y_test, y_pred_validation)\n",
        "  return report\n",
        "\n",
        "\n",
        "\n"
      ],
      "execution_count": null,
      "outputs": []
    },
    {
      "cell_type": "code",
      "metadata": {
        "id": "xpgF0foSG_N5",
        "colab": {
          "base_uri": "https://localhost:8080/"
        },
        "outputId": "245d07eb-26fc-4290-aec3-312487a8cf41"
      },
      "source": [
        "class_report = Evaluate_On_test_Data(checkpoint, X_test, y_test)\n",
        "print(class_report)"
      ],
      "execution_count": null,
      "outputs": [
        {
          "output_type": "stream",
          "text": [
            "/usr/local/lib/python3.7/dist-packages/torch/tensor.py:447: UserWarning: non-inplace resize is deprecated\n",
            "  warnings.warn(\"non-inplace resize is deprecated\")\n"
          ],
          "name": "stderr"
        },
        {
          "output_type": "stream",
          "text": [
            "              precision    recall  f1-score   support\n",
            "\n",
            "         0.0       1.00      1.00      1.00       603\n",
            "         1.0       1.00      1.00      1.00      1118\n",
            "         2.0       0.99      1.00      0.99       593\n",
            "         3.0       0.80      0.87      0.83       418\n",
            "         4.0       0.93      0.88      0.90       803\n",
            "         5.0       1.00      0.99      1.00      1188\n",
            "         6.0       0.99      1.00      1.00      1074\n",
            "         7.0       0.99      0.99      0.99      3381\n",
            "         8.0       1.00      1.00      1.00      1861\n",
            "         9.0       1.00      1.00      1.00       983\n",
            "        10.0       1.00      1.00      1.00       320\n",
            "        11.0       1.00      1.00      1.00       578\n",
            "        12.0       0.99      1.00      0.99       275\n",
            "        13.0       0.98      0.99      0.99       321\n",
            "        14.0       0.99      0.98      0.99      2181\n",
            "        15.0       1.00      0.99      1.00       542\n",
            "\n",
            "    accuracy                           0.99     16239\n",
            "   macro avg       0.98      0.98      0.98     16239\n",
            "weighted avg       0.99      0.99      0.99     16239\n",
            "\n"
          ],
          "name": "stdout"
        }
      ]
    },
    {
      "cell_type": "markdown",
      "metadata": {
        "id": "ZCMVgl-CAm6e"
      },
      "source": [
        "#Generating crop map from predicted label"
      ]
    },
    {
      "cell_type": "code",
      "metadata": {
        "id": "Oi_hdxaABOU6"
      },
      "source": [
        "def Create_Patch(data,height_index,width_index):\n",
        "    h_slice = slice(height_index, height_index+patch_size)\n",
        "    w_slice = slice(width_index, width_index+patch_size)\n",
        "    patched_data = data[h_slice, w_slice, :]\n",
        "    return patched_data"
      ],
      "execution_count": null,
      "outputs": []
    },
    {
      "cell_type": "code",
      "metadata": {
        "id": "rGgiKCXoCzo9"
      },
      "source": [
        "feature = sio.loadmat(os.path.join(Dir, 'Salinas_corrected.mat'))['salinas_corrected']\n",
        "label = sio.loadmat(os.path.join(Dir, 'Salinas_gt.mat'))['salinas_gt']"
      ],
      "execution_count": null,
      "outputs": []
    },
    {
      "cell_type": "code",
      "metadata": {
        "id": "_76cjKI2yQ5e"
      },
      "source": [
        "feature,pca = Apply_PCA_on_Depth(feature, depth)"
      ],
      "execution_count": null,
      "outputs": []
    },
    {
      "cell_type": "code",
      "metadata": {
        "id": "F-G6d-MuBkT_"
      },
      "source": [
        "height = label.shape[0]\n",
        "width = label.shape[1]\n",
        "feature = Padding(feature, patch_size//2)"
      ],
      "execution_count": null,
      "outputs": []
    },
    {
      "cell_type": "code",
      "metadata": {
        "id": "-pyqYeRGBnb5"
      },
      "source": [
        "def load_pretrained_model(pretrained, checkpoint):\n",
        "  model = HSI_Classifier()\n",
        "  if pretrained:\n",
        "     model = torch.load(checkpoint)['model']\n",
        "     \n",
        "  return model\n",
        "    "
      ],
      "execution_count": null,
      "outputs": []
    },
    {
      "cell_type": "code",
      "metadata": {
        "id": "cWBIShEHCpwZ"
      },
      "source": [
        "model = load_pretrained_model(True,checkpoint).to(device)"
      ],
      "execution_count": null,
      "outputs": []
    },
    {
      "cell_type": "code",
      "metadata": {
        "colab": {
          "base_uri": "https://localhost:8080/"
        },
        "id": "HeU7OgrzC4P3",
        "outputId": "41e4556b-bd87-418e-d1bf-dc98ab42b9b2"
      },
      "source": [
        "model.eval()"
      ],
      "execution_count": null,
      "outputs": [
        {
          "output_type": "execute_result",
          "data": {
            "text/plain": [
              "HSI_Classifier(\n",
              "  (conv1): Conv3d(1, 8, kernel_size=(3, 3, 3), stride=(1, 1, 1))\n",
              "  (batchnorm1): BatchNorm3d(8, eps=1e-05, momentum=0.1, affine=True, track_running_stats=True)\n",
              "  (conv2): Conv3d(8, 16, kernel_size=(5, 3, 3), stride=(1, 1, 1))\n",
              "  (batchnorm2): BatchNorm3d(16, eps=1e-05, momentum=0.1, affine=True, track_running_stats=True)\n",
              "  (conv3): Conv3d(16, 32, kernel_size=(5, 3, 3), stride=(1, 1, 1))\n",
              "  (batchnorm3): BatchNorm3d(32, eps=1e-05, momentum=0.1, affine=True, track_running_stats=True)\n",
              "  (fc1): Linear(in_features=2880, out_features=512, bias=True)\n",
              "  (fc2): Linear(in_features=512, out_features=16, bias=True)\n",
              "  (relu): ReLU()\n",
              ")"
            ]
          },
          "metadata": {
            "tags": []
          },
          "execution_count": 31
        }
      ]
    },
    {
      "cell_type": "code",
      "metadata": {
        "colab": {
          "base_uri": "https://localhost:8080/"
        },
        "id": "vMa4nFy0B3L-",
        "outputId": "19584dd6-6079-4893-a835-24d7b87f5216"
      },
      "source": [
        "predicted_output = np.zeros((height,width))\n",
        "for h in range(height):\n",
        "  for w in range(width):\n",
        "    true_label = int(label[h,w])\n",
        "    if (true_label!=0):\n",
        "      patch_image = Create_Patch(feature,h,w)\n",
        "      patch_image = torch.from_numpy(patch_image)\n",
        "      patch_image = patch_image.resize(1,patch_image.shape[0],patch_image.shape[1],patch_image.shape[2],1)\n",
        "      patch_image = patch_image.permute(0,4,3,2,1).to(device)\n",
        "      predict = model(patch_image.float())\n",
        "      predict = predict.detach().cpu().numpy()\n",
        "      predict = np.argmax(predict, axis=1)\n",
        "      predicted_output[h][w] = predict+1\n",
        "\n",
        "\n",
        "\n"
      ],
      "execution_count": null,
      "outputs": [
        {
          "output_type": "stream",
          "text": [
            "/usr/local/lib/python3.7/dist-packages/torch/tensor.py:447: UserWarning: non-inplace resize is deprecated\n",
            "  warnings.warn(\"non-inplace resize is deprecated\")\n"
          ],
          "name": "stderr"
        }
      ]
    },
    {
      "cell_type": "code",
      "metadata": {
        "colab": {
          "base_uri": "https://localhost:8080/",
          "height": 812
        },
        "id": "VxEKe3IODtX-",
        "outputId": "d41b4246-e647-4ced-fe29-fdf2c9213103"
      },
      "source": [
        "predicted_segmentation = spectral.imshow(classes = predicted_output.astype(int),figsize =(7,14))"
      ],
      "execution_count": null,
      "outputs": [
        {
          "output_type": "display_data",
          "data": {
            "image/png": "[encoded data removed]",
            "text/plain": [
              "<Figure size 504x1008 with 1 Axes>"
            ]
          },
          "metadata": {
            "tags": [],
            "needs_background": "light"
          }
        }
      ]
    },
    {
      "cell_type": "code",
      "metadata": {
        "colab": {
          "base_uri": "https://localhost:8080/",
          "height": 812
        },
        "id": "LXvmn6mG_cxx",
        "outputId": "0dfb7dbf-f190-46a5-d691-f7644c472cc9"
      },
      "source": [
        "ground_truth_Segmentation = spectral.imshow(classes = label,figsize =(7,14))  "
      ],
      "execution_count": null,
      "outputs": [
        {
          "output_type": "display_data",
          "data": {
            "image/png": "[encoded data removed]",
            "text/plain": [
              "<Figure size 504x1008 with 1 Axes>"
            ]
          },
          "metadata": {
            "tags": [],
            "needs_background": "light"
          }
        }
      ]
    },
    {
      "cell_type": "code",
      "metadata": {
        "id": "2i1q2YEvELKZ"
      },
      "source": [
        ""
      ],
      "execution_count": null,
      "outputs": []
    },
    {
      "cell_type": "markdown",
      "metadata": {
        "id": "3mYnTNOnDCJ3"
      },
      "source": [
        "#Area Estimation"
      ]
    },
    {
      "cell_type": "code",
      "metadata": {
        "id": "GXe1tVwIDRZ-"
      },
      "source": [
        "def Estimate_Area(spatial_resolution, label, n_class, class_to_crop_name_mapping):\n",
        "  Count = [0]* n_class\n",
        "  Count = np.array(Count)\n",
        "  for i in range(label.shape[0]):\n",
        "    for j in range(label.shape[1]):\n",
        "      idx = int(label[i][j])\n",
        "      Count[idx] +=1\n",
        "\n",
        "  area_of_one_pixel = float(spatial_resolution * spatial_resolution)\n",
        "  for i in range(n_class):\n",
        "    print(\"Area of \"+class_to_crop_name_mapping[i]+\" == \",\"{0:.2f}\".format((Count[i]*area_of_one_pixel)), \"square metre\")\n",
        "\n",
        "\n",
        "\n"
      ],
      "execution_count": null,
      "outputs": []
    },
    {
      "cell_type": "code",
      "metadata": {
        "id": "zNMRT6csE88X"
      },
      "source": [
        "class_to_crop_name_mapping = ['Brocoli_green_weeds_1','Brocoli_green_weeds_2','Fallow','Fallow_rough_plow','Fallow_smooth',\n",
        "                        'Stubble','Celery','Grapes_untrained','Soil_vinyard_develop','Corn_senesced_green_weeds',\n",
        "                        'Lettuce_romaine_4wk','Lettuce_romaine_5wk','Lettuce_romaine_6wk','Lettuce_romaine_7wk',\n",
        "                        'Vinyard_untrained','Vinyard_vertical_trellis']\n",
        "\n",
        "spatial_resolution_of_salinas_dataset = 3.7\n",
        "predicted_output = predicted_output -1"
      ],
      "execution_count": null,
      "outputs": []
    },
    {
      "cell_type": "code",
      "metadata": {
        "colab": {
          "base_uri": "https://localhost:8080/"
        },
        "id": "a4HRtkM8FHPP",
        "outputId": "3a0acdfa-c883-4812-a125-33a796a2c9f2"
      },
      "source": [
        "Estimate_Area(spatial_resolution_of_salinas_dataset, predicted_output, 16, class_to_crop_name_mapping)"
      ],
      "execution_count": null,
      "outputs": [
        {
          "output_type": "stream",
          "text": [
            "Area of Brocoli_green_weeds_1 ==  50926.80 square metre\n",
            "Area of Brocoli_green_weeds_2 ==  27448.45 square metre\n",
            "Area of Fallow ==  20726.66 square metre\n",
            "Area of Fallow_rough_plow ==  34622.01 square metre\n",
            "Area of Fallow_smooth ==  54034.43 square metre\n",
            "Area of Stubble ==  49174.48 square metre\n",
            "Area of Celery ==  154779.14 square metre\n",
            "Area of Grapes_untrained ==  84973.83 square metre\n",
            "Area of Soil_vinyard_develop ==  44807.37 square metre\n",
            "Area of Corn_senesced_green_weeds ==  14620.92 square metre\n",
            "Area of Lettuce_romaine_4wk ==  26380.63 square metre\n",
            "Area of Lettuce_romaine_5wk ==  12608.49 square metre\n",
            "Area of Lettuce_romaine_6wk ==  14826.27 square metre\n",
            "Area of Lettuce_romaine_7wk ==  99006.08 square metre\n",
            "Area of Vinyard_untrained ==  804574.99 square metre\n",
            "Area of Vinyard_vertical_trellis ==  27503.21 square metre\n"
          ],
          "name": "stdout"
        }
      ]
    },
    {
      "cell_type": "code",
      "metadata": {
        "id": "sW1_wn6nFgul"
      },
      "source": [
        ""
      ],
      "execution_count": null,
      "outputs": []
    },
    {
      "cell_type": "markdown",
      "metadata": {
        "id": "E6vuCyv5GH3M"
      },
      "source": [
        "#Transfer Learning"
      ]
    },
    {
      "cell_type": "code",
      "metadata": {
        "colab": {
          "base_uri": "https://localhost:8080/"
        },
        "id": "80QTX84YGKIN",
        "outputId": "1a912c61-fcd7-40b4-9e17-5898c7b3e53f"
      },
      "source": [
        "!wget http://www.ehu.eus/ccwintco/uploads/e/ee/PaviaU.mat"
      ],
      "execution_count": null,
      "outputs": [
        {
          "output_type": "stream",
          "text": [
            "--2021-03-07 11:10:24--  http://www.ehu.eus/ccwintco/uploads/e/ee/PaviaU.mat\n",
            "Resolving www.ehu.eus (www.ehu.eus)... 158.227.0.65, 2001:720:1410::65\n",
            "Connecting to www.ehu.eus (www.ehu.eus)|158.227.0.65|:80... connected.\n",
            "HTTP request sent, awaiting response... 200 OK\n",
            "Length: 34806917 (33M)\n",
            "Saving to: ‘PaviaU.mat’\n",
            "\n",
            "PaviaU.mat          100%[===================>]  33.19M   525KB/s    in 67s     \n",
            "\n",
            "2021-03-07 11:11:31 (510 KB/s) - ‘PaviaU.mat’ saved [34806917/34806917]\n",
            "\n"
          ],
          "name": "stdout"
        }
      ]
    },
    {
      "cell_type": "code",
      "metadata": {
        "colab": {
          "base_uri": "https://localhost:8080/"
        },
        "id": "Vhe69GzLHRUe",
        "outputId": "b9c4fd82-0943-4599-bdd2-773024a83771"
      },
      "source": [
        "!wget http://www.ehu.eus/ccwintco/uploads/5/50/PaviaU_gt.mat"
      ],
      "execution_count": null,
      "outputs": [
        {
          "output_type": "stream",
          "text": [
            "--2021-03-07 11:11:34--  http://www.ehu.eus/ccwintco/uploads/5/50/PaviaU_gt.mat\n",
            "Resolving www.ehu.eus (www.ehu.eus)... 158.227.0.65, 2001:720:1410::65\n",
            "Connecting to www.ehu.eus (www.ehu.eus)|158.227.0.65|:80... connected.\n",
            "HTTP request sent, awaiting response... 200 OK\n",
            "Length: 11005 (11K)\n",
            "Saving to: ‘PaviaU_gt.mat’\n",
            "\n",
            "PaviaU_gt.mat       100%[===================>]  10.75K  --.-KB/s    in 0s      \n",
            "\n",
            "2021-03-07 11:11:34 (310 MB/s) - ‘PaviaU_gt.mat’ saved [11005/11005]\n",
            "\n"
          ],
          "name": "stdout"
        }
      ]
    },
    {
      "cell_type": "code",
      "metadata": {
        "id": "IhZYWjK8HVwT"
      },
      "source": [
        "feature = sio.loadmat(\"/content/PaviaU.mat\")['paviaU']\n",
        "label = sio.loadmat(\"/content/PaviaU_gt.mat\")['paviaU_gt']"
      ],
      "execution_count": null,
      "outputs": []
    },
    {
      "cell_type": "code",
      "metadata": {
        "colab": {
          "base_uri": "https://localhost:8080/"
        },
        "id": "aqETivkRHqU_",
        "outputId": "e31e8cb0-6bd7-4567-d63d-00aa872714a1"
      },
      "source": [
        "feature,pca = Apply_PCA_on_Depth(feature,depth)\n",
        "feature.shape"
      ],
      "execution_count": null,
      "outputs": [
        {
          "output_type": "execute_result",
          "data": {
            "text/plain": [
              "(610, 340, 20)"
            ]
          },
          "metadata": {
            "tags": []
          },
          "execution_count": 74
        }
      ]
    },
    {
      "cell_type": "code",
      "metadata": {
        "id": "hckKIpMyIsbH"
      },
      "source": [
        "feature,labels = Create3Dpatch(feature,label)\n"
      ],
      "execution_count": null,
      "outputs": []
    },
    {
      "cell_type": "code",
      "metadata": {
        "id": "GfhpRlDZI78Q"
      },
      "source": [
        "X_train, X_test, y_train, y_test = train_test_split(feature, labels, test_size=0.3, random_state=random_state,stratify=labels)"
      ],
      "execution_count": null,
      "outputs": []
    },
    {
      "cell_type": "code",
      "metadata": {
        "id": "pT6N5ooPJBCR"
      },
      "source": [
        "train_dataset = Data(Dir,X_train,y_train,patch=patch_size,band=depth)\n",
        "validation_dataset = Data(Dir,X_test,y_test,patch=patch_size,band=depth)"
      ],
      "execution_count": null,
      "outputs": []
    },
    {
      "cell_type": "code",
      "metadata": {
        "id": "TYAHky55JNh6"
      },
      "source": [
        "train_data_loader = DataLoader(\n",
        "    train_dataset,\n",
        "    batch_size=batch_size,\n",
        "    shuffle=True\n",
        ")\n",
        "\n",
        "valid_data_loader = DataLoader(\n",
        "    validation_dataset,\n",
        "    batch_size=batch_size,\n",
        "    shuffle=True\n",
        ")"
      ],
      "execution_count": null,
      "outputs": []
    },
    {
      "cell_type": "code",
      "metadata": {
        "id": "DQ0FZm-XJ_vU"
      },
      "source": [
        "pth = \"/content/drive/MyDrive/HyperSpectral_Model_With_Oversampling.pth\"\n",
        "device = torch.device('cuda') if torch.cuda.is_available() else torch.device('cpu')"
      ],
      "execution_count": null,
      "outputs": []
    },
    {
      "cell_type": "code",
      "metadata": {
        "id": "E6tCn727JTmT"
      },
      "source": [
        "model = load_pretrained_model(True,pth).to(device)"
      ],
      "execution_count": null,
      "outputs": []
    },
    {
      "cell_type": "code",
      "metadata": {
        "id": "xs955jezZDjI"
      },
      "source": [
        "model.fc2 = nn.Linear(512, 9)"
      ],
      "execution_count": null,
      "outputs": []
    },
    {
      "cell_type": "code",
      "metadata": {
        "id": "ZRaqr-fmKLW3"
      },
      "source": [
        " for param in model.parameters():\n",
        "     param.requires_grad = False"
      ],
      "execution_count": null,
      "outputs": []
    },
    {
      "cell_type": "code",
      "metadata": {
        "id": "EuBx2oAiLAtR"
      },
      "source": [
        " model.fc1.weight.requires_grad = True\n",
        " model.fc1.bias.requires_grad = True\n",
        " model.fc2.weight.requires_grad = True\n",
        " model.fc2.bias.requires_grad = True"
      ],
      "execution_count": null,
      "outputs": []
    },
    {
      "cell_type": "code",
      "metadata": {
        "id": "nfnijLEdJpMx"
      },
      "source": [
        "\n",
        "import torch.optim as optim\n",
        "from torch.optim import lr_scheduler\n",
        "from tqdm import tqdm_notebook as tqdm\n",
        "\n",
        "criterion = nn.CrossEntropyLoss()\n",
        "optimizer = optim.Adam(filter(lambda p: p.requires_grad, model.parameters()), lr=0.001)\n",
        "#optimizer = optim.Adam(model.parameters(), lr=0.001)\n",
        "lmbda = lambda epoch: 0.97  #lr_new_epoch = lr_prev_epoch*0.90\n",
        "scheduler = lr_scheduler.MultiplicativeLR(optimizer, lr_lambda=lmbda)"
      ],
      "execution_count": null,
      "outputs": []
    },
    {
      "cell_type": "code",
      "metadata": {
        "id": "_-Vxm3MKVlpW"
      },
      "source": [
        "def train(model, train_loader, validation_loader, optimizer, epochs):\n",
        "    device = torch.device('cuda') if torch.cuda.is_available() else torch.device('cpu')\n",
        "    i = 0\n",
        "    model.to(device)\n",
        "    history = {'training_loss': [],'validation_accuracy': [], 'validation_loss':[]}\n",
        "    for epoch in tqdm(range(epochs)):\n",
        "        t_loss=0\n",
        "        v_loss=0\n",
        "        for i, (X, y) in enumerate(train_loader): \n",
        "            model.train()\n",
        "            X = X.to(device).float()\n",
        "            y = y.to(device).type(torch.long)\n",
        "            optimizer.zero_grad()\n",
        "            outputs = model(X)\n",
        "            loss = criterion(outputs, y)\n",
        "            loss.backward()\n",
        "            optimizer.step()\n",
        "            t_loss +=loss.data.item()\n",
        "        correct = 0\n",
        "        for x_valid, y_valid in validation_loader:\n",
        "            #validation \n",
        "            model.eval()\n",
        "            x_valid = x_valid.to(device).float()\n",
        "            y_valid = y_valid.to(device).type(torch.long)\n",
        "            z = model(x_valid)\n",
        "            val_loss = criterion(z, y_valid)\n",
        "            v_loss+=val_loss.data.item()\n",
        "            _, label = torch.max(z, 1)\n",
        "            correct += (label == y_valid).sum().item()\n",
        "        accuracy = 100 * (correct / len(validation_dataset))\n",
        "        history['validation_accuracy'].append(accuracy)\n",
        "        history['training_loss'].append(t_loss/len(train_dataset))\n",
        "        history['validation_loss'].append(v_loss/len(validation_dataset))\n",
        "        print(\"Epoch ::::  \"+str(epoch+1)+\"  train_loss ::: \"+str(t_loss/len(train_dataset))+\"  valid_loss :::\"+str(v_loss/len(validation_dataset))+\"  Validation_Accuracy ::: \"+str(accuracy))\n",
        "        for param_group in optimizer.param_groups:\n",
        "          print(\"Current Learning Rate:\",param_group['lr'])\n",
        "        scheduler.step()\n",
        "    return history"
      ],
      "execution_count": null,
      "outputs": []
    },
    {
      "cell_type": "code",
      "metadata": {
        "colab": {
          "base_uri": "https://localhost:8080/",
          "height": 851,
          "referenced_widgets": [
            "54ba6a873756476bb0efb0ebfc60b83e",
            "e686272864a44549a84bf85a154fa154",
            "e2ca4ff1ed6b4a50883174aa6009e18b",
            "a8f92d38e9b1408e9892731d37004170",
            "d0f852394a124300a845fd16be822ba5",
            "fa5baae614004facbb037192f11ef249",
            "016c4d5346d7407ea96d7e46d7b71742",
            "bb7543f686104f43bccd63ee51a46a1d"
          ]
        },
        "id": "dkpjFR6xLRS0",
        "outputId": "62b470b2-df8c-4859-cfe4-597a2da8aae3"
      },
      "source": [
        "hist = train(model,train_data_loader,valid_data_loader,optimizer,epochs=20)"
      ],
      "execution_count": null,
      "outputs": [
        {
          "output_type": "stream",
          "text": [
            "/usr/local/lib/python3.7/dist-packages/ipykernel_launcher.py:6: TqdmDeprecationWarning: This function will be removed in tqdm==5.0.0\n",
            "Please use `tqdm.notebook.tqdm` instead of `tqdm.tqdm_notebook`\n",
            "  \n"
          ],
          "name": "stderr"
        },
        {
          "output_type": "display_data",
          "data": {
            "application/vnd.jupyter.widget-view+json": {
              "model_id": "54ba6a873756476bb0efb0ebfc60b83e",
              "version_minor": 0,
              "version_major": 2
            },
            "text/plain": [
              "HBox(children=(FloatProgress(value=0.0, max=20.0), HTML(value='')))"
            ]
          },
          "metadata": {
            "tags": []
          }
        },
        {
          "output_type": "stream",
          "text": [
            "/usr/local/lib/python3.7/dist-packages/torch/tensor.py:447: UserWarning: non-inplace resize is deprecated\n",
            "  warnings.warn(\"non-inplace resize is deprecated\")\n"
          ],
          "name": "stderr"
        },
        {
          "output_type": "stream",
          "text": [
            "Epoch ::::  1  train_loss ::: 0.006422422398302572  valid_loss :::0.0014498965480976064  Validation_Accuracy ::: 99.40777682537208\n",
            "Current Learning Rate: 0.001\n",
            "Epoch ::::  2  train_loss ::: 0.0008826983929644595  valid_loss :::0.0006328004357310218  Validation_Accuracy ::: 99.72726564326346\n",
            "Current Learning Rate: 0.0009699999999999999\n",
            "Epoch ::::  3  train_loss ::: 0.0003712522840798404  valid_loss :::0.0004508562326794078  Validation_Accuracy ::: 99.81298215538065\n",
            "Current Learning Rate: 0.0009408999999999999\n",
            "Epoch ::::  4  train_loss ::: 0.00036354065863076145  valid_loss :::0.000262385911117536  Validation_Accuracy ::: 99.88311384711291\n",
            "Current Learning Rate: 0.0009126729999999999\n",
            "Epoch ::::  5  train_loss ::: 0.0001945526953707658  valid_loss :::0.000390539702492404  Validation_Accuracy ::: 99.82856697576561\n",
            "Current Learning Rate: 0.0008852928099999999\n",
            "Epoch ::::  6  train_loss ::: 0.0001486455182025957  valid_loss :::0.0003088073882935715  Validation_Accuracy ::: 99.82077456557313\n",
            "Current Learning Rate: 0.0008587340256999998\n",
            "Epoch ::::  7  train_loss ::: 0.00016081621384281798  valid_loss :::0.0005519076157407607  Validation_Accuracy ::: 99.69609600249358\n",
            "Current Learning Rate: 0.0008329720049289999\n",
            "Epoch ::::  8  train_loss ::: 0.00010669019021628174  valid_loss :::0.00028701422012471374  Validation_Accuracy ::: 99.85194420634302\n",
            "Current Learning Rate: 0.0008079828447811299\n",
            "Epoch ::::  9  train_loss ::: 0.00011268895148871376  valid_loss :::0.0001380709557602394  Validation_Accuracy ::: 99.93766071846022\n",
            "Current Learning Rate: 0.0007837433594376959\n",
            "Epoch ::::  10  train_loss ::: 0.000148446766128386  valid_loss :::0.00011383168770146854  Validation_Accuracy ::: 99.9454531286527\n",
            "Current Learning Rate: 0.000760231058654565\n",
            "Epoch ::::  11  train_loss ::: 7.413582855942122e-05  valid_loss :::0.00025357504776482635  Validation_Accuracy ::: 99.89090625730539\n",
            "Current Learning Rate: 0.000737424126894928\n",
            "Epoch ::::  12  train_loss ::: 5.67217997573039e-05  valid_loss :::0.00011757458936441167  Validation_Accuracy ::: 99.95324553884517\n",
            "Current Learning Rate: 0.0007153014030880802\n",
            "Epoch ::::  13  train_loss ::: 2.8403377728850167e-05  valid_loss :::9.040268713473143e-05  Validation_Accuracy ::: 99.97662276942259\n",
            "Current Learning Rate: 0.0006938423609954377\n",
            "Epoch ::::  14  train_loss ::: 6.774475692263912e-05  valid_loss :::0.0001084160834150591  Validation_Accuracy ::: 99.97662276942259\n",
            "Current Learning Rate: 0.0006730270901655745\n",
            "Epoch ::::  15  train_loss ::: 5.025981636870498e-06  valid_loss :::8.920986262008192e-05  Validation_Accuracy ::: 99.96883035923011\n",
            "Current Learning Rate: 0.0006528362774606073\n",
            "Epoch ::::  16  train_loss ::: 2.6475631102872076e-05  valid_loss :::0.0001387988159829806  Validation_Accuracy ::: 99.92986830826774\n",
            "Current Learning Rate: 0.0006332511891367891\n",
            "Epoch ::::  17  train_loss ::: 2.599927508666211e-05  valid_loss :::8.788481937474657e-05  Validation_Accuracy ::: 99.98441517961506\n",
            "Current Learning Rate: 0.0006142536534626854\n",
            "Epoch ::::  18  train_loss ::: 1.3726019178562759e-05  valid_loss :::0.00010381160358721893  Validation_Accuracy ::: 99.97662276942259\n",
            "Current Learning Rate: 0.0005958260438588048\n",
            "Epoch ::::  19  train_loss ::: 9.206098128948072e-06  valid_loss :::0.0001123420367133641  Validation_Accuracy ::: 99.96883035923011\n",
            "Current Learning Rate: 0.0005779512625430406\n",
            "Epoch ::::  20  train_loss ::: 8.207375616555855e-06  valid_loss :::9.050666410330961e-05  Validation_Accuracy ::: 99.97662276942259\n",
            "Current Learning Rate: 0.0005606127246667494\n",
            "\n"
          ],
          "name": "stdout"
        }
      ]
    },
    {
      "cell_type": "code",
      "metadata": {
        "colab": {
          "base_uri": "https://localhost:8080/",
          "height": 295
        },
        "id": "VhAEmxXpLzAJ",
        "outputId": "eddaec40-807e-44cc-c12d-e8af1a8a43c8"
      },
      "source": [
        "plot_accuracy_loss(hist)"
      ],
      "execution_count": null,
      "outputs": [
        {
          "output_type": "display_data",
          "data": {
            "image/png": "[encoded data removed]",
            "text/plain": [
              "<Figure size 432x288 with 3 Axes>"
            ]
          },
          "metadata": {
            "tags": [],
            "needs_background": "light"
          }
        }
      ]
    },
    {
      "cell_type": "code",
      "metadata": {
        "id": "ebbAMBtrbifC"
      },
      "source": [
        "def Evaluate_On_test_Data(model, X_test, y_test):\n",
        "  model.eval()\n",
        "\n",
        "  X_test = torch.from_numpy(X_test)\n",
        "  X_test = X_test.resize(X_test.shape[0],patch_size,patch_size,depth,1)\n",
        "  X_test = X_test.permute(0,4,3,2,1)\n",
        "\n",
        "  pred = model(X_test.float().to(device))\n",
        "  pred = pred.detach().cpu().numpy()\n",
        "\n",
        "  y_pred_validation = np.argmax(pred, axis=1)\n",
        "  report = classification_report(y_test, y_pred_validation)\n",
        "  return report\n",
        "\n",
        "\n",
        "\n"
      ],
      "execution_count": null,
      "outputs": []
    },
    {
      "cell_type": "code",
      "metadata": {
        "colab": {
          "base_uri": "https://localhost:8080/"
        },
        "id": "h6OVlwK-bp3n",
        "outputId": "defbdf9b-aa2c-4f7e-e368-2f1319da2b08"
      },
      "source": [
        "result = Evaluate_On_test_Data(model,X_test,y_test)\n",
        "print(result)"
      ],
      "execution_count": null,
      "outputs": [
        {
          "output_type": "stream",
          "text": [
            "/usr/local/lib/python3.7/dist-packages/torch/tensor.py:447: UserWarning: non-inplace resize is deprecated\n",
            "  warnings.warn(\"non-inplace resize is deprecated\")\n"
          ],
          "name": "stderr"
        },
        {
          "output_type": "stream",
          "text": [
            "              precision    recall  f1-score   support\n",
            "\n",
            "         0.0       1.00      0.97      0.98      1989\n",
            "         1.0       1.00      1.00      1.00      5595\n",
            "         2.0       0.93      0.95      0.94       630\n",
            "         3.0       0.99      0.99      0.99       919\n",
            "         4.0       1.00      1.00      1.00       403\n",
            "         5.0       1.00      1.00      1.00      1509\n",
            "         6.0       0.98      1.00      0.99       399\n",
            "         7.0       0.94      0.95      0.95      1105\n",
            "         8.0       0.98      0.99      0.99       284\n",
            "\n",
            "    accuracy                           0.99     12833\n",
            "   macro avg       0.98      0.98      0.98     12833\n",
            "weighted avg       0.99      0.99      0.99     12833\n",
            "\n"
          ],
          "name": "stdout"
        }
      ]
    },
    {
      "cell_type": "code",
      "metadata": {
        "id": "o_lv4hBnOG2N"
      },
      "source": [
        "feature = sio.loadmat(\"/content/PaviaU.mat\")['paviaU']\n",
        "label = sio.loadmat(\"/content/PaviaU_gt.mat\")['paviaU_gt']"
      ],
      "execution_count": null,
      "outputs": []
    },
    {
      "cell_type": "code",
      "metadata": {
        "id": "qFtOhcKdOP4T"
      },
      "source": [
        "feature,pca = Apply_PCA_on_Depth(feature, depth)"
      ],
      "execution_count": null,
      "outputs": []
    },
    {
      "cell_type": "code",
      "metadata": {
        "id": "2MlCR8djOBaM"
      },
      "source": [
        "height = label.shape[0]\n",
        "width = label.shape[1]\n",
        "feature = Padding(feature, patch_size//2)"
      ],
      "execution_count": null,
      "outputs": []
    },
    {
      "cell_type": "code",
      "metadata": {
        "id": "-ImySsJkOWGW"
      },
      "source": [
        "#model = load_pretrained_model(True,pth).to(device)"
      ],
      "execution_count": null,
      "outputs": []
    },
    {
      "cell_type": "code",
      "metadata": {
        "colab": {
          "base_uri": "https://localhost:8080/"
        },
        "id": "65DLbJOQOYdG",
        "outputId": "68b3d64b-e344-4f5c-e1f8-624e9c7957a0"
      },
      "source": [
        "model.eval()"
      ],
      "execution_count": null,
      "outputs": [
        {
          "output_type": "execute_result",
          "data": {
            "text/plain": [
              "HSI_Classifier(\n",
              "  (conv1): Conv3d(1, 8, kernel_size=(3, 3, 3), stride=(1, 1, 1))\n",
              "  (batchnorm1): BatchNorm3d(8, eps=1e-05, momentum=0.1, affine=True, track_running_stats=True)\n",
              "  (conv2): Conv3d(8, 16, kernel_size=(5, 3, 3), stride=(1, 1, 1))\n",
              "  (batchnorm2): BatchNorm3d(16, eps=1e-05, momentum=0.1, affine=True, track_running_stats=True)\n",
              "  (conv3): Conv3d(16, 32, kernel_size=(5, 3, 3), stride=(1, 1, 1))\n",
              "  (batchnorm3): BatchNorm3d(32, eps=1e-05, momentum=0.1, affine=True, track_running_stats=True)\n",
              "  (fc1): Linear(in_features=2880, out_features=512, bias=True)\n",
              "  (fc2): Linear(in_features=512, out_features=9, bias=True)\n",
              "  (relu): ReLU()\n",
              ")"
            ]
          },
          "metadata": {
            "tags": []
          },
          "execution_count": 122
        }
      ]
    },
    {
      "cell_type": "code",
      "metadata": {
        "colab": {
          "base_uri": "https://localhost:8080/"
        },
        "id": "nkwbaraENqCq",
        "outputId": "c1201044-ffcf-48c7-f406-d8a3f477e08d"
      },
      "source": [
        "predicted_output = np.zeros((height,width))\n",
        "for h in range(height):\n",
        "  for w in range(width):\n",
        "    true_label = int(label[h,w])\n",
        "    if (true_label!=0):\n",
        "      patch_image = Create_Patch(feature,h,w)\n",
        "      patch_image = torch.from_numpy(patch_image)\n",
        "      patch_image = patch_image.resize(1,patch_image.shape[0],patch_image.shape[1],patch_image.shape[2],1)\n",
        "      patch_image = patch_image.permute(0,4,3,2,1).to(device)\n",
        "      predict = model(patch_image.float())\n",
        "      predict = predict.detach().cpu().numpy()\n",
        "      predict = np.argmax(predict, axis=1)\n",
        "      predicted_output[h][w] = predict+1\n"
      ],
      "execution_count": null,
      "outputs": [
        {
          "output_type": "stream",
          "text": [
            "/usr/local/lib/python3.7/dist-packages/torch/tensor.py:447: UserWarning: non-inplace resize is deprecated\n",
            "  warnings.warn(\"non-inplace resize is deprecated\")\n"
          ],
          "name": "stderr"
        }
      ]
    },
    {
      "cell_type": "code",
      "metadata": {
        "colab": {
          "base_uri": "https://localhost:8080/",
          "height": 752
        },
        "id": "hKgoRHYcNsvQ",
        "outputId": "68bd3b93-e072-46b0-8e11-c569c858679b"
      },
      "source": [
        "predicted_segmentation = spectral.imshow(classes = predicted_output.astype(int),figsize =(7,14))"
      ],
      "execution_count": null,
      "outputs": [
        {
          "output_type": "display_data",
          "data": {
            "image/png": "[encoded data removed]",
            "text/plain": [
              "<Figure size 504x1008 with 1 Axes>"
            ]
          },
          "metadata": {
            "tags": [],
            "needs_background": "light"
          }
        }
      ]
    },
    {
      "cell_type": "code",
      "metadata": {
        "colab": {
          "base_uri": "https://localhost:8080/",
          "height": 752
        },
        "id": "rppc1xcpOfDz",
        "outputId": "b61b757e-fa52-42ac-93e4-3c237948f1cc"
      },
      "source": [
        "ground_truth_Segmentation = spectral.imshow(classes = label,figsize =(7,14))  "
      ],
      "execution_count": null,
      "outputs": [
        {
          "output_type": "display_data",
          "data": {
            "image/png": "[encoded data removed]",
            "text/plain": [
              "<Figure size 504x1008 with 1 Axes>"
            ]
          },
          "metadata": {
            "tags": [],
            "needs_background": "light"
          }
        }
      ]
    },
    {
      "cell_type": "code",
      "metadata": {
        "id": "s4CE30HdOjgW"
      },
      "source": [
        ""
      ],
      "execution_count": null,
      "outputs": []
    }
  ]
}